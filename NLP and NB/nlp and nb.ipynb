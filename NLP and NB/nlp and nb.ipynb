{
 "cells": [
  {
   "cell_type": "markdown",
   "metadata": {},
   "source": [
    "> **Jupyter slideshow:** This notebook can be displayed as slides. To view it as a slideshow in your browser, run the following cell:\n",
    "\n",
    "> `> jupyter nbconvert [this_notebook.ipynb] --to slides --post serve`\n",
    " \n",
    "> To toggle off the slideshow cell formatting, click the `CellToolbar` button, then `View > Cell Toolbar > None`."
   ]
  },
  {
   "cell_type": "markdown",
   "metadata": {},
   "source": [
    "<img src=\"./images/salesforce.svg\" width=\"50\" height=\"50\" align=\"right\"/>\n",
    "\n",
    "<img src=\"./images/di.png\" width=\"50\" height=\"50\" align=\"right\"/>\n",
    " \n",
    "# Natural Language Processing and Naive Bayes\n",
    "  \n",
    "---\n",
    "\n",
    "<img src=\"./images/nlp.png\" width=\"600\" height=\"600\" align=\"center\"/>"
   ]
  },
  {
   "cell_type": "markdown",
   "metadata": {},
   "source": [
    "### Learning Objectives\n",
    "- Discuss the major tasks involved with natural language processing.\n",
    "- Discuss, on a low level, the components of natural language processing.\n",
    "- Identify why natural language processing is difficult.\n",
    "- Demonstrate text classification.\n",
    "- Demonstrate common text preprocessing techniques."
   ]
  },
  {
   "cell_type": "markdown",
   "metadata": {},
   "source": [
    "### How Do We Use NLP in Data Science?\n",
    "\n",
    "In data science, we are often asked to analyze unstructured text or make a predictive model using it. Unfortunately, most data science techniques require numeric data. NLP libraries provide a tool set of methods to convert unstructured text into meaningful numeric data.\n",
    "\n",
    "- **Analysis:** NLP techniques provide tools to allow us to understand and analyze large amounts of text. For example:\n",
    "\n",
    "    - Analyze the positivity/negativity of comments on different websites. \n",
    "    - Extract key words from meeting notes and visualize how meeting topics change over time.\n",
    "\n",
    "- **Vectorizing for machine learning:** When building a machine learning model, we typically must transform our data into numeric features. This process of transforming non-numeric data such as natural language into numeric features is called vectorization. For example:\n",
    "\n",
    "    - Understanding related words. Using stemming, NLP lets us know that \"swim\", \"swims\", and \"swimming\" all refer to the same base word. This allows us to reduce the number of features used in our model.\n",
    "    - Identifying important and unique words. Using TF-IDF (term frequency-inverse document frequency), we can identify which words are most likely to be meaningful in a document."
   ]
  },
  {
   "cell_type": "markdown",
   "metadata": {},
   "source": [
    "<a id='textblob_install'></a>\n",
    "\n",
    "### Install TextBlob\n",
    "\n",
    "The TextBlob Python library provides a simplified interface for exploring common NLP tasks including part-of-speech tagging, noun phrase extraction, sentiment analysis, classification, translation, and more.\n",
    "\n",
    "To proceed with the lesson, first install TextBlob, as explained below. We tend to prefer Anaconda-based installations, since they tend to be tested with our other Anaconda packages.\n",
    "\n",
    "**To install textblob run:**\n",
    "\n",
    "> `conda install -c conda-forge textblob`\n",
    "\n",
    "**Or:**\n",
    "\n",
    "> `pip install textblob`\n",
    "\n",
    "> `python -m textblob.download_corpora lite`"
   ]
  },
  {
   "cell_type": "markdown",
   "metadata": {},
   "source": [
    "## Introduction"
   ]
  },
  {
   "cell_type": "markdown",
   "metadata": {},
   "source": [
    "### What Is Natural Language Processing (NLP)?\n",
    "\n",
    "- Using computers to process (analyze, understand, generate) natural human languages.\n",
    "- Making sense of human knowledge stored as unstructured text.\n",
    "- Building probabilistic models using data about a language."
   ]
  },
  {
   "cell_type": "markdown",
   "metadata": {},
   "source": [
    "<img src=\"./images/siri.jpg\" width=\"800\" height=\"800\" align=\"center\"/>"
   ]
  },
  {
   "cell_type": "markdown",
   "metadata": {},
   "source": [
    "### What does NLU mean? \n",
    "\n",
    "<img src=\"./images/twoway.jpg\" width=\"600\" height=\"600\" align=\"center\"/>\n",
    "\n",
    "---"
   ]
  },
  {
   "cell_type": "code",
   "execution_count": 1,
   "metadata": {},
   "outputs": [
    {
     "data": {
      "image/jpeg": "[encoded data removed]",
      "text/html": [
       "\n",
       "        <iframe\n",
       "            width=\"400\"\n",
       "            height=\"300\"\n",
       "            src=\"https://www.youtube.com/embed/D5VN56jQMWM\"\n",
       "            frameborder=\"0\"\n",
       "            allowfullscreen\n",
       "        ></iframe>\n",
       "        "
      ],
      "text/plain": [
       "<IPython.lib.display.YouTubeVideo at 0x2e31a549910>"
      ]
     },
     "execution_count": 1,
     "metadata": {},
     "output_type": "execute_result"
    }
   ],
   "source": [
    "from IPython.display import YouTubeVideo\n",
    "# Youtube Video\n",
    "YouTubeVideo('D5VN56jQMWM')"
   ]
  },
  {
   "cell_type": "markdown",
   "metadata": {},
   "source": [
    "### What Are Some of the Lower-Level Components?\n",
    "\n",
    "- **Objective:** Discuss, on a low level, the components of natural language processing.\n",
    "\n",
    "Unfortunately, the NLP programming libraries typically do not provide direct solutions for the high-level tasks above. Instead, they provide low-level building blocks that enable us to craft our own solutions. These include:\n",
    "\n",
    "- **Tokenization:** Breaking text into tokens (words, sentences, n-grams)\n",
    "- **Stop-word removal:** a/an/the\n",
    "- **Stemming and lemmatization:** root word\n",
    "- **TF-IDF:** word importance\n",
    "- **Part-of-speech tagging:** noun/verb/adjective\n",
    "- **Named entity recognition:** person/organization/location\n",
    "- **Spelling correction:** \"New Yrok City\"\n",
    "- **Word sense disambiguation:** \"buy a mouse\"\n",
    "- **Segmentation:** \"New York City subway\"\n",
    "- **Language detection:** \"translate this page\"\n",
    "- **Machine learning:** specialized models that work well with text"
   ]
  },
  {
   "cell_type": "markdown",
   "metadata": {},
   "source": [
    "### Why is NLP hard?\n",
    "\n",
    "\n",
    "<img src=\"./images/fan.png\" width=\"600\" height=\"600\" align=\"right\"/>\n",
    "\n",
    "- **Objective:** Identify why natural language processing is difficult.\n",
    "\n",
    "Natural language processing requires an understanding of the language and the world. Several limitations of NLP are:\n",
    "\n",
    "- **Ambiguity**:\n",
    "    - Hospitals Are Sued by 7 Foot Doctors\n",
    "    - Juvenile Court to Try Shooting Defendant\n",
    "    - Local High School Dropouts Cut in Half\n",
    "- **Non-standard English:** text messages\n",
    "- **Idioms:** \"throw in the towel\"\n",
    "- **Newly coined words:** \"retweet\"\n",
    "- **Tricky entity names:** \"Where is A Bug's Life playing?\"\n",
    "- **World knowledge:** \"Mary and Sue are sisters\", \"Mary and Sue are mothers\""
   ]
  },
  {
   "cell_type": "markdown",
   "metadata": {},
   "source": [
    "<a id='yelp_rev'></a>\n",
    "\n",
    "## Reading in the Yelp Reviews"
   ]
  },
  {
   "cell_type": "markdown",
   "metadata": {},
   "source": [
    "Throughout this lesson, we will use Yelp reviews to practice and discover common low-level NLP techniques.\n",
    "\n",
    "You should be familiar with these terms, as they are frequently used in NLP:\n",
    "- **corpus**: a collection of documents (derived from the Latin word for \"body\")\n",
    "- **corpora**: plural form of corpus\n",
    "\n",
    "Throughout this lesson, we will use a model very popular for text classification called Naive Bayes (the \"NB\" in `BinonmialNB` and `MultinomialNB` below). If you are unfamiliar with it, know that it works exactly the same as all other models in scikit-learn! We will look extensively at the mechanics behind Naive Bayes later in the course. However, see the [appendix](#bayes) at the end of this notebook for a quick introduction."
   ]
  },
  {
   "cell_type": "code",
   "execution_count": 2,
   "metadata": {},
   "outputs": [],
   "source": [
    "import pandas as pd\n",
    "import numpy as np\n",
    "import scipy as sp\n",
    "from sklearn.model_selection import train_test_split\n",
    "from sklearn.feature_extraction.text import CountVectorizer, TfidfVectorizer\n",
    "from sklearn.naive_bayes import MultinomialNB         # Naive Bayes\n",
    "from sklearn.linear_model import LogisticRegression\n",
    "from sklearn import metrics\n",
    "from textblob import TextBlob, Word\n",
    "from nltk.stem.snowball import SnowballStemmer\n",
    "\n",
    "%matplotlib inline\n",
    "\n",
    "import warnings\n",
    "warnings.filterwarnings('ignore')\n"
   ]
  },
  {
   "cell_type": "code",
   "execution_count": 3,
   "metadata": {},
   "outputs": [
    {
     "name": "stderr",
     "output_type": "stream",
     "text": [
      "[nltk_data] Downloading package punkt to\n",
      "[nltk_data]     C:\\Users\\Hades\\AppData\\Roaming\\nltk_data...\n",
      "[nltk_data]   Package punkt is already up-to-date!\n",
      "[nltk_data] Downloading package wordnet to\n",
      "[nltk_data]     C:\\Users\\Hades\\AppData\\Roaming\\nltk_data...\n",
      "[nltk_data]   Package wordnet is already up-to-date!\n"
     ]
    },
    {
     "data": {
      "text/plain": [
       "True"
      ]
     },
     "execution_count": 3,
     "metadata": {},
     "output_type": "execute_result"
    }
   ],
   "source": [
    "import nltk\n",
    "nltk.download('punkt')\n",
    "nltk.download('wordnet')"
   ]
  },
  {
   "cell_type": "code",
   "execution_count": 4,
   "metadata": {},
   "outputs": [],
   "source": [
    "# Read yelp.csv into a DataFrame.\n",
    "path = './data/yelp.csv'\n",
    "yelp = pd.read_csv(path)\n",
    "\n",
    "# Create a new DataFrame that only contains the 5-star and 1-star reviews.\n",
    "yelp_best_worst = yelp[(yelp.stars==5) | (yelp.stars==1)]\n",
    "\n",
    "# Define X and y.\n",
    "X = yelp_best_worst.text\n",
    "y = yelp_best_worst.stars\n",
    "\n",
    "# Split the new DataFrame into training and testing sets.\n",
    "X_train, X_test, y_train, y_test = train_test_split(X, y, test_size=0.25 ,random_state=99)"
   ]
  },
  {
   "cell_type": "code",
   "execution_count": 5,
   "metadata": {},
   "outputs": [
    {
     "data": {
      "text/html": [
       "<div>\n",
       "<style scoped>\n",
       "    .dataframe tbody tr th:only-of-type {\n",
       "        vertical-align: middle;\n",
       "    }\n",
       "\n",
       "    .dataframe tbody tr th {\n",
       "        vertical-align: top;\n",
       "    }\n",
       "\n",
       "    .dataframe thead th {\n",
       "        text-align: right;\n",
       "    }\n",
       "</style>\n",
       "<table border=\"1\" class=\"dataframe\">\n",
       "  <thead>\n",
       "    <tr style=\"text-align: right;\">\n",
       "      <th></th>\n",
       "      <th>business_id</th>\n",
       "      <th>date</th>\n",
       "      <th>review_id</th>\n",
       "      <th>stars</th>\n",
       "      <th>text</th>\n",
       "      <th>type</th>\n",
       "      <th>user_id</th>\n",
       "      <th>cool</th>\n",
       "      <th>useful</th>\n",
       "      <th>funny</th>\n",
       "    </tr>\n",
       "  </thead>\n",
       "  <tbody>\n",
       "    <tr>\n",
       "      <th>0</th>\n",
       "      <td>9yKzy9PApeiPPOUJEtnvkg</td>\n",
       "      <td>2011-01-26</td>\n",
       "      <td>fWKvX83p0-ka4JS3dc6E5A</td>\n",
       "      <td>5</td>\n",
       "      <td>My wife took me here on my birthday for breakf...</td>\n",
       "      <td>review</td>\n",
       "      <td>rLtl8ZkDX5vH5nAx9C3q5Q</td>\n",
       "      <td>2</td>\n",
       "      <td>5</td>\n",
       "      <td>0</td>\n",
       "    </tr>\n",
       "    <tr>\n",
       "      <th>1</th>\n",
       "      <td>ZRJwVLyzEJq1VAihDhYiow</td>\n",
       "      <td>2011-07-27</td>\n",
       "      <td>IjZ33sJrzXqU-0X6U8NwyA</td>\n",
       "      <td>5</td>\n",
       "      <td>I have no idea why some people give bad review...</td>\n",
       "      <td>review</td>\n",
       "      <td>0a2KyEL0d3Yb1V6aivbIuQ</td>\n",
       "      <td>0</td>\n",
       "      <td>0</td>\n",
       "      <td>0</td>\n",
       "    </tr>\n",
       "    <tr>\n",
       "      <th>2</th>\n",
       "      <td>6oRAC4uyJCsJl1X0WZpVSA</td>\n",
       "      <td>2012-06-14</td>\n",
       "      <td>IESLBzqUCLdSzSqm0eCSxQ</td>\n",
       "      <td>4</td>\n",
       "      <td>love the gyro plate. Rice is so good and I als...</td>\n",
       "      <td>review</td>\n",
       "      <td>0hT2KtfLiobPvh6cDC8JQg</td>\n",
       "      <td>0</td>\n",
       "      <td>1</td>\n",
       "      <td>0</td>\n",
       "    </tr>\n",
       "    <tr>\n",
       "      <th>3</th>\n",
       "      <td>_1QQZuf4zZOyFCvXc0o6Vg</td>\n",
       "      <td>2010-05-27</td>\n",
       "      <td>G-WvGaISbqqaMHlNnByodA</td>\n",
       "      <td>5</td>\n",
       "      <td>Rosie, Dakota, and I LOVE Chaparral Dog Park!!...</td>\n",
       "      <td>review</td>\n",
       "      <td>uZetl9T0NcROGOyFfughhg</td>\n",
       "      <td>1</td>\n",
       "      <td>2</td>\n",
       "      <td>0</td>\n",
       "    </tr>\n",
       "    <tr>\n",
       "      <th>4</th>\n",
       "      <td>6ozycU1RpktNG2-1BroVtw</td>\n",
       "      <td>2012-01-05</td>\n",
       "      <td>1uJFq2r5QfJG_6ExMRCaGw</td>\n",
       "      <td>5</td>\n",
       "      <td>General Manager Scott Petello is a good egg!!!...</td>\n",
       "      <td>review</td>\n",
       "      <td>vYmM4KTsC8ZfQBg-j5MWkw</td>\n",
       "      <td>0</td>\n",
       "      <td>0</td>\n",
       "      <td>0</td>\n",
       "    </tr>\n",
       "  </tbody>\n",
       "</table>\n",
       "</div>"
      ],
      "text/plain": [
       "              business_id        date               review_id  stars  \\\n",
       "0  9yKzy9PApeiPPOUJEtnvkg  2011-01-26  fWKvX83p0-ka4JS3dc6E5A      5   \n",
       "1  ZRJwVLyzEJq1VAihDhYiow  2011-07-27  IjZ33sJrzXqU-0X6U8NwyA      5   \n",
       "2  6oRAC4uyJCsJl1X0WZpVSA  2012-06-14  IESLBzqUCLdSzSqm0eCSxQ      4   \n",
       "3  _1QQZuf4zZOyFCvXc0o6Vg  2010-05-27  G-WvGaISbqqaMHlNnByodA      5   \n",
       "4  6ozycU1RpktNG2-1BroVtw  2012-01-05  1uJFq2r5QfJG_6ExMRCaGw      5   \n",
       "\n",
       "                                                text    type  \\\n",
       "0  My wife took me here on my birthday for breakf...  review   \n",
       "1  I have no idea why some people give bad review...  review   \n",
       "2  love the gyro plate. Rice is so good and I als...  review   \n",
       "3  Rosie, Dakota, and I LOVE Chaparral Dog Park!!...  review   \n",
       "4  General Manager Scott Petello is a good egg!!!...  review   \n",
       "\n",
       "                  user_id  cool  useful  funny  \n",
       "0  rLtl8ZkDX5vH5nAx9C3q5Q     2       5      0  \n",
       "1  0a2KyEL0d3Yb1V6aivbIuQ     0       0      0  \n",
       "2  0hT2KtfLiobPvh6cDC8JQg     0       1      0  \n",
       "3  uZetl9T0NcROGOyFfughhg     1       2      0  \n",
       "4  vYmM4KTsC8ZfQBg-j5MWkw     0       0      0  "
      ]
     },
     "execution_count": 5,
     "metadata": {},
     "output_type": "execute_result"
    }
   ],
   "source": [
    "# The head of the original data\n",
    "yelp.head()"
   ]
  },
  {
   "cell_type": "markdown",
   "metadata": {},
   "source": [
    "<a id='text_class'></a>\n",
    "\n",
    "\n",
    "# Introduction: Text Classification"
   ]
  },
  {
   "cell_type": "markdown",
   "metadata": {},
   "source": [
    "As you proceed through this section, note that text classification is done in the same way as all other classification models. First, the text is vectorized into a set of numeric features. Then, a standard machine learning classifier is applied. NLP libraries often include vectorizers and ML models that work particularly well with text.\n",
    "\n",
    "> We will refer to each piece of text we are trying to classify as a document.\n",
    "> - For example, a document could refer to an email, book chapter, tweet, article, or text message.\n",
    "\n",
    "**Text classification is the task of predicting which category or topic a text sample is from.**\n",
    "\n",
    "We may want to identify:\n",
    "- Is an article a sports or business story?\n",
    "- Does an email have positive or negative sentiment?\n",
    "- Is the rating of a recipe 1, 2, 3, 4, or 5 stars?\n",
    "\n",
    "**Predictions are often made by using the words as features and the label as the target output.**\n",
    "\n",
    "Starting out, we will make each unique word (across all documents) a single feature. In any given corpora, we may have hundreds of thousands of unique words, so we may have hundreds of thousands of features!\n",
    "\n",
    "- For a given document, the numeric value of each feature could be the number of times the word appears in the document.\n",
    "    - So, most features will have a value of zero, resulting in a sparse matrix of features.\n",
    "\n",
    "- This technique for vectorizing text is referred to as a bag-of-words model. \n",
    "    - It is called bag of words because the document's structure is lost — as if the words are all jumbled up in a bag.\n",
    "    - The first step to creating a bag-of-words model is to create a vocabulary of all possible words in the corpora.\n",
    "\n",
    "> Alternatively, we could make each column an indicator column, which is 1 if the word is present in the document (no matter how many times) and 0 if not. This vectorization could be used to reduce the importance of repeated words. For example, a website search engine would be susceptible to spammers who load websites with repeated words. So, the search engine might use indicator columns as features rather than word counts.\n",
    "\n",
    "**We need to consider several things to decide if bag-of-words is appropriate.**\n",
    "\n",
    "- Does order of words matter?\n",
    "- Does punctuation matter?\n",
    "- Does upper or lower case matter?"
   ]
  },
  {
   "cell_type": "markdown",
   "metadata": {},
   "source": [
    "## Demo: Text Processing in scikit-learn\n",
    "\n",
    "- **Objective:** Demonstrate text classification."
   ]
  },
  {
   "cell_type": "markdown",
   "metadata": {},
   "source": [
    "<a id='count_vec'></a>\n",
    "\n",
    "\n",
    "### Creating Features Using CountVectorizer\n",
    "\n",
    "- **What:** Converts each document into a set of words and their counts.\n",
    "- **Why:** To use a machine learning model, we must convert unstructured text into numeric features.\n",
    "- **Notes:** Relatively easy with English language text, not as easy with some languages."
   ]
  },
  {
   "cell_type": "markdown",
   "metadata": {},
   "source": [
    "<img src=\"./images/cvec.png\" width=\"500\" height=\"500\" align=\"center\"/>"
   ]
  },
  {
   "cell_type": "code",
   "execution_count": 6,
   "metadata": {},
   "outputs": [],
   "source": [
    "# Use CountVectorizer to create document-term matrices from X_train and X_test.\n",
    "vect = CountVectorizer()\n",
    "X_train_dtm = vect.fit_transform(X_train)\n",
    "X_test_dtm = vect.transform(X_test)"
   ]
  },
  {
   "cell_type": "code",
   "execution_count": 7,
   "metadata": {
    "scrolled": true
   },
   "outputs": [
    {
     "data": {
      "text/plain": [
       "8556    Had a fabulous time here with my husband celeb...\n",
       "4856    Culver's is a must if you have not had the cha...\n",
       "8943    Went to Sol for restaurant week.  Was less tha...\n",
       "9200    We have been meaning to try The Mission for aw...\n",
       "5908    I really like this Urgent Care!  Don't let the...\n",
       "Name: text, dtype: object"
      ]
     },
     "execution_count": 7,
     "metadata": {},
     "output_type": "execute_result"
    }
   ],
   "source": [
    "X_train.head()"
   ]
  },
  {
   "cell_type": "code",
   "execution_count": 8,
   "metadata": {},
   "outputs": [
    {
     "data": {
      "text/plain": [
       "(3064,)"
      ]
     },
     "execution_count": 8,
     "metadata": {},
     "output_type": "execute_result"
    }
   ],
   "source": [
    "X_train.shape"
   ]
  },
  {
   "cell_type": "code",
   "execution_count": 9,
   "metadata": {},
   "outputs": [
    {
     "data": {
      "text/plain": [
       "'My wife took me here on my birthday for breakfast and it was excellent.  The weather was perfect which made sitting outside overlooking their grounds an absolute pleasure.  Our waitress was excellent and our food arrived quickly on the semi-busy Saturday morning.  It looked like the place fills up pretty quickly so the earlier you get here the better.\\r\\n\\r\\nDo yourself a favor and get their Bloody Mary.  It was phenomenal and simply the best I\\'ve ever had.  I\\'m pretty sure they only use ingredients from their garden and blend them fresh when you order it.  It was amazing.\\r\\n\\r\\nWhile EVERYTHING on the menu looks excellent, I had the white truffle scrambled eggs vegetable skillet and it was tasty and delicious.  It came with 2 pieces of their griddled bread with was amazing and it absolutely made the meal complete.  It was the best \"toast\" I\\'ve ever had.\\r\\n\\r\\nAnyway, I can\\'t wait to go back!'"
      ]
     },
     "execution_count": 9,
     "metadata": {},
     "output_type": "execute_result"
    }
   ],
   "source": [
    "X_train[0]"
   ]
  },
  {
   "cell_type": "code",
   "execution_count": 10,
   "metadata": {},
   "outputs": [
    {
     "data": {
      "text/plain": [
       "<1x16669 sparse matrix of type '<class 'numpy.int64'>'\n",
       "\twith 346 stored elements in Compressed Sparse Row format>"
      ]
     },
     "execution_count": 10,
     "metadata": {},
     "output_type": "execute_result"
    }
   ],
   "source": [
    "X_train_dtm[0]"
   ]
  },
  {
   "cell_type": "code",
   "execution_count": 11,
   "metadata": {},
   "outputs": [
    {
     "data": {
      "text/plain": [
       "(3064, 16669)"
      ]
     },
     "execution_count": 11,
     "metadata": {},
     "output_type": "execute_result"
    }
   ],
   "source": [
    "# Rows are documents, columns are terms (aka \"tokens\" or \"features\", individual words in this situation).\n",
    "X_train_dtm.shape"
   ]
  },
  {
   "cell_type": "code",
   "execution_count": 12,
   "metadata": {},
   "outputs": [
    {
     "name": "stdout",
     "output_type": "stream",
     "text": [
      "['zabba', 'zach', 'zanella', 'zankou', 'zappos', 'zatsiki', 'zen', 'zero', 'zesty', 'zexperience', 'zhou', 'zia', 'zichini', 'zihuatenejo', 'zillion', 'zin', 'zinburger', 'zinburgergeist', 'zinc', 'zinfandel', 'zing', 'zip', 'zipcar', 'ziploc', 'zipper', 'zippers', 'zipps', 'ziti', 'zoe', 'zombi', 'zombies', 'zone', 'zoners', 'zones', 'zoning', 'zoo', 'zoom', 'zoyo', 'zucca', 'zucchini', 'zuccini', 'zuchinni', 'zumba', 'zupa', 'zupas', 'zuzu', 'zuzus', 'zzed', 'éclairs', 'ém']\n"
     ]
    }
   ],
   "source": [
    "# Last 50 features\n",
    "print((vect.get_feature_names()[-50:]))"
   ]
  },
  {
   "cell_type": "code",
   "execution_count": 13,
   "metadata": {},
   "outputs": [
    {
     "data": {
      "text/plain": [
       "CountVectorizer()"
      ]
     },
     "execution_count": 13,
     "metadata": {},
     "output_type": "execute_result"
    }
   ],
   "source": [
    "# Show vectorizer options.\n",
    "vect"
   ]
  },
  {
   "cell_type": "markdown",
   "metadata": {},
   "source": [
    "[CountVectorizer documentation](http://scikit-learn.org/stable/modules/generated/sklearn.feature_extraction.text.CountVectorizer.html)"
   ]
  },
  {
   "cell_type": "markdown",
   "metadata": {},
   "source": [
    "One common method of reducing the number of features is converting all text to lowercase before generating features! Note that to a computer, `aPPle` is a different token/\"word\" than `apple`. So, by converting both to lowercase letters, it ensures fewer features will be generated. It might be useful not to convert them to lowercase if capitalization matters."
   ]
  },
  {
   "cell_type": "code",
   "execution_count": 14,
   "metadata": {},
   "outputs": [
    {
     "data": {
      "text/plain": [
       "['zoning',\n",
       " 'zoo',\n",
       " 'zoom',\n",
       " 'zucchini',\n",
       " 'zuccini',\n",
       " 'zuchinni',\n",
       " 'zupa',\n",
       " 'zzed',\n",
       " 'éclairs',\n",
       " 'ém']"
      ]
     },
     "execution_count": 14,
     "metadata": {},
     "output_type": "execute_result"
    }
   ],
   "source": [
    "# Don't convert to lowercase.\n",
    "vect = CountVectorizer(lowercase=False)\n",
    "X_train_dtm = vect.fit_transform(X_train)\n",
    "X_train_dtm.shape\n",
    "vect.get_feature_names()[-10:]"
   ]
  },
  {
   "cell_type": "markdown",
   "metadata": {},
   "source": [
    "<a id='countvectorizer-model'></a>\n",
    "\n",
    "\n",
    "### Using CountVectorizer in a Model\n",
    "![DTM](images/DTM.png)"
   ]
  },
  {
   "cell_type": "code",
   "execution_count": 15,
   "metadata": {},
   "outputs": [
    {
     "name": "stdout",
     "output_type": "stream",
     "text": [
      "0.9246575342465754\n"
     ]
    }
   ],
   "source": [
    "# Use default options for CountVectorizer.\n",
    "vect = CountVectorizer()\n",
    "\n",
    "# Create document-term matrices.\n",
    "X_train_dtm = vect.fit_transform(X_train)\n",
    "X_test_dtm = vect.transform(X_test)\n",
    "\n",
    "# Use Naive Bayes to predict the star rating.\n",
    "nb = MultinomialNB()\n",
    "nb.fit(X_train_dtm, y_train)\n",
    "y_pred_class = nb.predict(X_test_dtm)\n",
    "\n",
    "# Calculate accuracy.\n",
    "print((metrics.accuracy_score(y_test, y_pred_class)))"
   ]
  },
  {
   "cell_type": "code",
   "execution_count": 16,
   "metadata": {},
   "outputs": [
    {
     "data": {
      "text/plain": [
       "5    844\n",
       "1    178\n",
       "Name: stars, dtype: int64"
      ]
     },
     "execution_count": 16,
     "metadata": {},
     "output_type": "execute_result"
    }
   ],
   "source": [
    "y_test.value_counts()"
   ]
  },
  {
   "cell_type": "code",
   "execution_count": 17,
   "metadata": {},
   "outputs": [
    {
     "name": "stdout",
     "output_type": "stream",
     "text": [
      "Percent 5 Stars: 0.8258317025440313\n",
      "Percent 1 Stars: 0.17416829745596873\n"
     ]
    }
   ],
   "source": [
    "# Calculate null accuracy.\n",
    "y_test_binary = np.where(y_test==5, 1, 0) # five stars become 1, one stars become 0\n",
    "print('Percent 5 Stars:', y_test_binary.mean())\n",
    "print('Percent 1 Stars:', 1 - y_test_binary.mean())"
   ]
  },
  {
   "cell_type": "markdown",
   "metadata": {},
   "source": [
    "Our model predicted ~92% accuracy, which is an improvement over this baseline 82% accuracy (assuming our model always predicts 5 stars).\n",
    "\n",
    "Let's look more into how the vectorizer works."
   ]
  },
  {
   "cell_type": "code",
   "execution_count": 18,
   "metadata": {},
   "outputs": [
    {
     "data": {
      "text/plain": [
       "<3064x16669 sparse matrix of type '<class 'numpy.int64'>'\n",
       "\twith 239046 stored elements in Compressed Sparse Row format>"
      ]
     },
     "execution_count": 18,
     "metadata": {},
     "output_type": "execute_result"
    }
   ],
   "source": [
    "# Notice how the data was transformed into this sparse matrix with 1,022 datapoints and 16,825 features!\n",
    "#   - Recall that vectorizations of text will be mostly zeros, since only a few unique words are in each document.\n",
    "#   - For that reason, instead of storing all the zeros we only store non-zero values (inside the 'sparse matrix' data structure!).\n",
    "#   - We have 3064 Yelp reviews in our training set.\n",
    "#   - 16,825 unique words were found across all documents.\n",
    "\n",
    "X_train_dtm"
   ]
  },
  {
   "cell_type": "code",
   "execution_count": 19,
   "metadata": {},
   "outputs": [
    {
     "data": {
      "text/plain": [
       "{'had': 6839,\n",
       " 'fabulous': 5482,\n",
       " 'time': 15039,\n",
       " 'here': 7121,\n",
       " 'with': 16368,\n",
       " 'my': 9795,\n",
       " 'husband': 7453,\n",
       " 'celebrating': 2650,\n",
       " 'birthday': 1745,\n",
       " 'last': 8434,\n",
       " 'weekend': 16177,\n",
       " 'we': 16149,\n",
       " 'both': 1973,\n",
       " 'got': 6572,\n",
       " 'the': 14890,\n",
       " 'farmer': 5560,\n",
       " 'feast': 5612,\n",
       " 'and': 810,\n",
       " 'it': 7939,\n",
       " 'was': 16095,\n",
       " 'truly': 15362,\n",
       " 'amazing': 754,\n",
       " 'not': 10080,\n",
       " 'expecting': 5402,\n",
       " 'that': 14885,\n",
       " 'would': 16449,\n",
       " 'each': 4884,\n",
       " 'get': 6391,\n",
       " 'unique': 15600,\n",
       " 'dishes': 4524,\n",
       " 'so': 13613,\n",
       " 'let': 8588,\n",
       " 'us': 15723,\n",
       " 'sample': 12720,\n",
       " 'even': 5292,\n",
       " 'more': 9661,\n",
       " 'of': 10208,\n",
       " 'food': 5973,\n",
       " 'though': 14957,\n",
       " 'hubby': 7395,\n",
       " 'didn': 4397,\n",
       " 'really': 11930,\n",
       " 'share': 13132,\n",
       " 'too': 15132,\n",
       " 'much': 9732,\n",
       " 'highly': 7165,\n",
       " 'recommend': 11989,\n",
       " 'this': 14946,\n",
       " 'option': 10340,\n",
       " 'for': 5994,\n",
       " 'anyone': 887,\n",
       " 'dining': 4449,\n",
       " 'antipasti': 869,\n",
       " 'great': 6657,\n",
       " 'selection': 13007,\n",
       " 'cured': 3906,\n",
       " 'meats': 9269,\n",
       " 'local': 8772,\n",
       " 'cheeses': 2815,\n",
       " 'next': 9962,\n",
       " 'wonderful': 16398,\n",
       " 'salad': 12678,\n",
       " 'combination': 3213,\n",
       " 'sharp': 13139,\n",
       " 'peppery': 10867,\n",
       " 'flavors': 5855,\n",
       " 'mixed': 9546,\n",
       " 'sweet': 14514,\n",
       " 'strawberries': 14192,\n",
       " 'arugula': 1084,\n",
       " 'radishes': 11811,\n",
       " 'yum': 16591,\n",
       " 'pasta': 10711,\n",
       " 'course': 3667,\n",
       " 'gnocchi': 6505,\n",
       " 'rich': 12377,\n",
       " 'tasty': 14705,\n",
       " 'cream': 3749,\n",
       " 'sauce': 12783,\n",
       " 'ravioli': 11892,\n",
       " 'stuffed': 14262,\n",
       " 'yam': 16512,\n",
       " 'his': 7205,\n",
       " 'dish': 4523,\n",
       " 'to': 15079,\n",
       " 'fight': 5702,\n",
       " 'couple': 3660,\n",
       " 'bites': 1760,\n",
       " 'fish': 5788,\n",
       " 'poached': 11193,\n",
       " 'halibut': 6863,\n",
       " 'served': 13067,\n",
       " 'some': 13676,\n",
       " 'kind': 8259,\n",
       " 'flavorful': 5851,\n",
       " 'vegetable': 15816,\n",
       " 'puree': 11692,\n",
       " 'whole': 16268,\n",
       " 'thing': 14930,\n",
       " 'extremely': 5460,\n",
       " 'delicious': 4207,\n",
       " 'very': 15874,\n",
       " 'lightly': 8648,\n",
       " 'seared': 12950,\n",
       " 'tuna': 15399,\n",
       " 'fillet': 5726,\n",
       " 'surprised': 14451,\n",
       " 'he': 7013,\n",
       " 'enjoyed': 5136,\n",
       " 'since': 13363,\n",
       " 'is': 7924,\n",
       " 'usually': 15739,\n",
       " 'raw': 11895,\n",
       " 'guy': 6817,\n",
       " 'our': 10423,\n",
       " 'main': 8990,\n",
       " 'pork': 11273,\n",
       " 'tenderloin': 14816,\n",
       " 'braised': 2035,\n",
       " 'beef': 1578,\n",
       " 'just': 8145,\n",
       " 'lucky': 8889,\n",
       " 'favorite': 5598,\n",
       " 'came': 2409,\n",
       " 'other': 10415,\n",
       " 'vegetables': 15817,\n",
       " 'starches': 14017,\n",
       " 'on': 10280,\n",
       " 'plate': 11132,\n",
       " 'they': 14922,\n",
       " 'have': 6994,\n",
       " 'been': 1582,\n",
       " 'an': 797,\n",
       " 'ample': 788,\n",
       " 'meal': 9246,\n",
       " 'in': 7603,\n",
       " 'themselves': 14904,\n",
       " 'dessert': 4333,\n",
       " 'goat': 6510,\n",
       " 'cheese': 2810,\n",
       " 'cheesecake': 2813,\n",
       " 'one': 10282,\n",
       " 'best': 1668,\n",
       " 'deserts': 4306,\n",
       " 'ever': 5298,\n",
       " 'eaten': 4914,\n",
       " 'but': 2305,\n",
       " 'pieces': 11021,\n",
       " 'were': 16203,\n",
       " 'small': 13517,\n",
       " 'enough': 5145,\n",
       " 'heavy': 7066,\n",
       " 'did': 4395,\n",
       " 'sweetness': 14523,\n",
       " 'went': 16202,\n",
       " 'well': 16197,\n",
       " 'ice': 7486,\n",
       " 'wine': 16333,\n",
       " 'which': 16234,\n",
       " 'tasted': 14693,\n",
       " 'like': 8654,\n",
       " 'pure': 11691,\n",
       " 'honey': 7278,\n",
       " 'fantastic': 5551,\n",
       " 'bread': 2057,\n",
       " 'pudding': 11637,\n",
       " 'care': 2520,\n",
       " 'sorbet': 13722,\n",
       " 'try': 15373,\n",
       " 'pairings': 10571,\n",
       " 'every': 5301,\n",
       " 'complimented': 3329,\n",
       " 'beautifully': 1557,\n",
       " 'glad': 6452,\n",
       " 'added': 466,\n",
       " 'also': 724,\n",
       " 'ended': 5109,\n",
       " 'up': 15677,\n",
       " 'you': 16572,\n",
       " 'half': 6861,\n",
       " 'glass': 6461,\n",
       " 'at': 1161,\n",
       " 'least': 8516,\n",
       " 'think': 14935,\n",
       " 'good': 6542,\n",
       " 'value': 15782,\n",
       " 'pairing': 10570,\n",
       " 'extra': 5452,\n",
       " '45': 209,\n",
       " 'do': 4609,\n",
       " 'agree': 591,\n",
       " 'reviewers': 12347,\n",
       " 'who': 16264,\n",
       " 'mentioned': 9336,\n",
       " 'salt': 12702,\n",
       " 'there': 14913,\n",
       " 'tad': 14589,\n",
       " 'however': 7382,\n",
       " 'due': 4826,\n",
       " 'mistake': 9530,\n",
       " 'chef': 2821,\n",
       " 'believe': 1618,\n",
       " 'because': 1560,\n",
       " 'use': 15729,\n",
       " 'lot': 8836,\n",
       " 'their': 14897,\n",
       " 'another': 853,\n",
       " 'reviewer': 12346,\n",
       " 'bad': 1339,\n",
       " 'service': 13072,\n",
       " 'experience': 5408,\n",
       " 'all': 683,\n",
       " 'server': 13068,\n",
       " 'warm': 16081,\n",
       " 'friendly': 6142,\n",
       " 'she': 13152,\n",
       " 'knowledgeable': 8307,\n",
       " 'could': 3641,\n",
       " 'answer': 855,\n",
       " 'any': 881,\n",
       " 'questions': 11759,\n",
       " 'her': 7114,\n",
       " 'took': 15134,\n",
       " 'explain': 5421,\n",
       " 'case': 2575,\n",
       " 'why': 16280,\n",
       " 'together': 15096,\n",
       " 'only': 10291,\n",
       " 'come': 3220,\n",
       " 'out': 10426,\n",
       " 'same': 12714,\n",
       " 'apologized': 907,\n",
       " 'immediately': 7556,\n",
       " 'slow': 13507,\n",
       " 'intentional': 7819,\n",
       " 'created': 3756,\n",
       " 'cozy': 3701,\n",
       " 'comfortable': 3225,\n",
       " 'environment': 5191,\n",
       " 'want': 16068,\n",
       " 'linger': 8689,\n",
       " 'enjoy': 5133,\n",
       " 'yourself': 16580,\n",
       " 'particular': 10682,\n",
       " 'almost': 709,\n",
       " 'hours': 7366,\n",
       " 'start': 14028,\n",
       " 'finish': 5764,\n",
       " 'minute': 9496,\n",
       " 'nice': 9972,\n",
       " 'between': 1683,\n",
       " 'courses': 3669,\n",
       " 'sit': 13394,\n",
       " 'talk': 14623,\n",
       " 'relax': 12115,\n",
       " 'spacing': 13772,\n",
       " 'kept': 8213,\n",
       " 'from': 6167,\n",
       " 'feeling': 5635,\n",
       " 'full': 6222,\n",
       " 'by': 2337,\n",
       " 'end': 5105,\n",
       " 'six': 13403,\n",
       " 'after': 566,\n",
       " 'or': 10345,\n",
       " 'letting': 8592,\n",
       " 'influence': 7704,\n",
       " 'able': 340,\n",
       " 'separately': 13049,\n",
       " 'independently': 7653,\n",
       " 'its': 7951,\n",
       " 'own': 10513,\n",
       " 'heaven': 7061,\n",
       " 'type': 15454,\n",
       " 'place': 11100,\n",
       " 'where': 16230,\n",
       " 'stop': 14157,\n",
       " 'before': 1591,\n",
       " 'show': 13268,\n",
       " 'event': 5295,\n",
       " 'when': 16228,\n",
       " 'should': 13254,\n",
       " 'be': 1534,\n",
       " 'your': 16578,\n",
       " 'destination': 4336,\n",
       " 'night': 9984,\n",
       " 'such': 14325,\n",
       " 'will': 16311,\n",
       " 'warning': 16089,\n",
       " 'say': 12813,\n",
       " 'ladies': 8374,\n",
       " 'need': 9902,\n",
       " 'prepared': 11406,\n",
       " 'rural': 12619,\n",
       " 'atmosphere': 1177,\n",
       " 'walk': 16042,\n",
       " 'car': 2502,\n",
       " 'restaurant': 12292,\n",
       " 'challenging': 2711,\n",
       " 'heels': 7076,\n",
       " 'warned': 16088,\n",
       " 'wedges': 16168,\n",
       " 'fact': 5496,\n",
       " 'dress': 4754,\n",
       " 'code': 3157,\n",
       " 'overall': 10460,\n",
       " 'bit': 1756,\n",
       " 'casual': 2595,\n",
       " 'than': 14873,\n",
       " 'kai': 8160,\n",
       " 'wildhorse': 16308,\n",
       " 'pass': 10694,\n",
       " 'resort': 12269,\n",
       " 'absolute': 353,\n",
       " 'special': 13808,\n",
       " 'occasion': 10182,\n",
       " 'making': 9012,\n",
       " 'comparisons': 3280,\n",
       " 'two': 15448,\n",
       " 'made': 8957,\n",
       " 'comment': 3239,\n",
       " 'spoke': 13896,\n",
       " 'library': 8613,\n",
       " 'whispers': 16254,\n",
       " 'felt': 5649,\n",
       " 'little': 8737,\n",
       " 'awkward': 1299,\n",
       " 'times': 15045,\n",
       " 'know': 8303,\n",
       " 'feel': 5634,\n",
       " 'if': 7516,\n",
       " 'wrong': 16484,\n",
       " 'fork': 6020,\n",
       " 'may': 9214,\n",
       " 'getting': 6394,\n",
       " 'kicked': 8231,\n",
       " 'quiessence': 11768,\n",
       " 'chatting': 2777,\n",
       " 'away': 1287,\n",
       " 'completely': 3317,\n",
       " 'ease': 4900,\n",
       " 'definitely': 4181,\n",
       " 'relaxed': 12117,\n",
       " 'then': 14905,\n",
       " 'experienced': 5409,\n",
       " 'caliber': 2386,\n",
       " 'culver': 3892,\n",
       " 'must': 9782,\n",
       " 'chance': 2719,\n",
       " 'them': 14900,\n",
       " 'several': 13090,\n",
       " 'stores': 14166,\n",
       " 'now': 10110,\n",
       " 'valley': 15779,\n",
       " 'root': 12528,\n",
       " 'beer': 1585,\n",
       " 'as': 1085,\n",
       " 'butter': 2312,\n",
       " 'burgers': 2265,\n",
       " 'curds': 3904,\n",
       " 'frys': 6201,\n",
       " 'frozen': 6183,\n",
       " 'custurd': 3944,\n",
       " 'lol': 8795,\n",
       " 'list': 8718,\n",
       " 'goes': 6522,\n",
       " 'found': 6052,\n",
       " 'anything': 889,\n",
       " 'yet': 16550,\n",
       " 'sol': 13649,\n",
       " 'week': 16174,\n",
       " 'less': 8583,\n",
       " 'impressed': 7585,\n",
       " 'bitter': 1763,\n",
       " 'mia': 9396,\n",
       " 'avocados': 1271,\n",
       " 'carnitas': 2540,\n",
       " 'bland': 1784,\n",
       " 'boring': 1958,\n",
       " 'rice': 12375,\n",
       " 'black': 1771,\n",
       " 'beans': 1541,\n",
       " 'aspirin': 1115,\n",
       " 'dulche': 4833,\n",
       " 'flan': 5826,\n",
       " 'hard': 6942,\n",
       " 'solid': 13658,\n",
       " 'icky': 7498,\n",
       " 'average': 1262,\n",
       " 'thru': 14991,\n",
       " 'dinner': 4452,\n",
       " 'part': 10675,\n",
       " 'refreshing': 12057,\n",
       " 'cheers': 2808,\n",
       " 'wont': 16407,\n",
       " 'returning': 12330,\n",
       " 'meaning': 9251,\n",
       " 'mission': 9528,\n",
       " 'awhile': 1298,\n",
       " 'are': 1001,\n",
       " 'self': 13012,\n",
       " 'professed': 11531,\n",
       " 'foodies': 5976,\n",
       " 'cooks': 3547,\n",
       " 'etc': 5263,\n",
       " 'seated': 12958,\n",
       " 'promptly': 11572,\n",
       " 'reservation': 12250,\n",
       " 'day': 4054,\n",
       " 'surprising': 14453,\n",
       " 'packed': 10538,\n",
       " 'alfonso': 674,\n",
       " 'waiter': 16025,\n",
       " 'awesome': 1293,\n",
       " 'hesitate': 7134,\n",
       " 'make': 9005,\n",
       " 'suggestions': 14351,\n",
       " 'happy': 6935,\n",
       " 'add': 464,\n",
       " 'first': 5786,\n",
       " 'margaritas': 9094,\n",
       " 'knows': 8309,\n",
       " 'how': 7379,\n",
       " 'pour': 11336,\n",
       " 'fresh': 6122,\n",
       " 'way': 16140,\n",
       " 'drink': 4769,\n",
       " 'places': 11103,\n",
       " 'phoenix': 10966,\n",
       " 'can': 2428,\n",
       " 'table': 14572,\n",
       " 'side': 13309,\n",
       " 'guacamole': 6762,\n",
       " 'suggested': 14348,\n",
       " 'fried': 6137,\n",
       " 'belly': 1631,\n",
       " 'cola': 3172,\n",
       " 'reduction': 12024,\n",
       " 'appetizer': 939,\n",
       " 'talked': 14625,\n",
       " 'into': 7852,\n",
       " 'omg': 10275,\n",
       " 'complex': 3321,\n",
       " 'blend': 1807,\n",
       " 'crunchiness': 3847,\n",
       " 'described': 4297,\n",
       " 'worth': 16443,\n",
       " 'balking': 1386,\n",
       " 'issue': 7935,\n",
       " 'entree': 5178,\n",
       " 'chose': 2938,\n",
       " 'chorizo': 2935,\n",
       " 'porchetta': 11270,\n",
       " 'scallops': 12825,\n",
       " 'excellent': 5337,\n",
       " 'timing': 15049,\n",
       " 'unbelievably': 15502,\n",
       " 'prompt': 11570,\n",
       " 'never': 9944,\n",
       " 'waited': 16024,\n",
       " 'rushed': 12621,\n",
       " 'confess': 3391,\n",
       " 'read': 11916,\n",
       " 'menu': 9340,\n",
       " 'decisions': 4125,\n",
       " 'while': 16236,\n",
       " 'reviews': 12349,\n",
       " 'loved': 8856,\n",
       " 'selections': 13009,\n",
       " 'wasn': 16108,\n",
       " 'blown': 1849,\n",
       " 'churros': 2965,\n",
       " 'dough': 4694,\n",
       " 'milkshake': 9447,\n",
       " 'better': 1679,\n",
       " 'fill': 5723,\n",
       " 'serve': 13066,\n",
       " 'dulce': 4832,\n",
       " 'de': 4072,\n",
       " 'leche': 8522,\n",
       " 'bananas': 1402,\n",
       " 'excite': 5351,\n",
       " 'me': 9244,\n",
       " 'either': 4996,\n",
       " 'pumpkin': 11664,\n",
       " 'seemed': 12994,\n",
       " 'autumn': 1252,\n",
       " '110': 35,\n",
       " 'degree': 4189,\n",
       " 'arizona': 1019,\n",
       " 'compliment': 3327,\n",
       " 'latin': 8446,\n",
       " 'needs': 9908,\n",
       " 'expanded': 5391,\n",
       " 'compliments': 3330,\n",
       " 'cuisine': 3882,\n",
       " 'citrus': 3005,\n",
       " 'chocolate': 2912,\n",
       " 'red': 12009,\n",
       " 'chile': 2867,\n",
       " 'cake': 2375,\n",
       " 'lime': 8664,\n",
       " 'rate': 11870,\n",
       " 'still': 14116,\n",
       " 'give': 6443,\n",
       " 'monty': 9643,\n",
       " 'stars': 14027,\n",
       " 'urgent': 15718,\n",
       " 'don': 4658,\n",
       " 'youthful': 16582,\n",
       " 'looks': 8816,\n",
       " 'fool': 5982,\n",
       " 'john': 8072,\n",
       " 'altic': 734,\n",
       " 'pa': 10527,\n",
       " 'dr': 4717,\n",
       " 'brenden': 2084,\n",
       " 'mcrae': 9243,\n",
       " 'caring': 2530,\n",
       " 'addition': 475,\n",
       " 'having': 6997,\n",
       " 'opening': 10311,\n",
       " 'private': 11494,\n",
       " 'family': 5537,\n",
       " 'practice': 11349,\n",
       " 'wait': 16023,\n",
       " 'primary': 11473,\n",
       " 'physicians': 10989,\n",
       " 'job': 8064,\n",
       " 'gentlemen': 6377,\n",
       " 'staff': 13975,\n",
       " 'has': 6967,\n",
       " 'new': 9945,\n",
       " 'ownership': 10517,\n",
       " 'probably': 11504,\n",
       " 'remove': 12170,\n",
       " 'review': 12344,\n",
       " 'below': 1636,\n",
       " 'harsh': 6962,\n",
       " 'doesn': 4625,\n",
       " 'apply': 955,\n",
       " 'establishment': 5253,\n",
       " 'short': 13241,\n",
       " 'sucks': 14332,\n",
       " 'balls': 1394,\n",
       " 'long': 8804,\n",
       " 'supposed': 14429,\n",
       " 'meet': 9293,\n",
       " 'friend': 6138,\n",
       " 'draft': 4718,\n",
       " 'house': 7367,\n",
       " 'saturday': 12781,\n",
       " 'excited': 5352,\n",
       " 'date': 4041,\n",
       " 'cuz': 3957,\n",
       " 'laws': 8470,\n",
       " 'headed': 7017,\n",
       " 'knew': 8291,\n",
       " 'going': 6524,\n",
       " 'interesting': 7830,\n",
       " 'sound': 13741,\n",
       " 'music': 9775,\n",
       " 'pulled': 11651,\n",
       " 'strip': 14222,\n",
       " 'mall': 9021,\n",
       " 'about': 344,\n",
       " 're': 11906,\n",
       " 'hip': 7191,\n",
       " 'hop': 7304,\n",
       " 'fan': 5540,\n",
       " 'crowd': 3825,\n",
       " 'ghetto': 6396,\n",
       " 'fab': 5478,\n",
       " 'seems': 12997,\n",
       " 'everyone': 5306,\n",
       " 'late': 8440,\n",
       " '20': 106,\n",
       " 'early': 4892,\n",
       " '30': 156,\n",
       " 'older': 10250,\n",
       " 'sprinkled': 13932,\n",
       " 'throughout': 14984,\n",
       " 'none': 10034,\n",
       " 'realize': 11925,\n",
       " '1996': 98,\n",
       " 'anymore': 886,\n",
       " 'expect': 5398,\n",
       " 'hear': 7040,\n",
       " 'fake': 5525,\n",
       " 'accents': 375,\n",
       " 'la': 8352,\n",
       " 'da': 3968,\n",
       " 'bronx': 2150,\n",
       " 'misuse': 9540,\n",
       " 'slang': 13451,\n",
       " 'terms': 14839,\n",
       " 'entertaining': 5161,\n",
       " 'until': 15663,\n",
       " 'became': 1559,\n",
       " 'annoying': 849,\n",
       " 'oh': 10231,\n",
       " 'people': 10853,\n",
       " 'steal': 14070,\n",
       " 'seats': 12961,\n",
       " 'tell': 14789,\n",
       " 'saved': 12800,\n",
       " 'ugh': 15467,\n",
       " 'crowded': 3826,\n",
       " 'dance': 4000,\n",
       " 'floor': 5894,\n",
       " 'pool': 11252,\n",
       " 'tables': 14575,\n",
       " 'tvs': 15424,\n",
       " 'playing': 11149,\n",
       " 'various': 15798,\n",
       " 'sports': 13908,\n",
       " 'guess': 6774,\n",
       " 'qualifies': 11735,\n",
       " 'cafe': 2367,\n",
       " 'line': 8683,\n",
       " 'retarded': 12316,\n",
       " 'over': 10459,\n",
       " 'minutes': 9497,\n",
       " 'tab': 14570,\n",
       " 'no': 10010,\n",
       " 'sight': 13321,\n",
       " 'crowding': 3827,\n",
       " 'trying': 15374,\n",
       " 'front': 6168,\n",
       " 'bar': 1434,\n",
       " 'tenders': 14818,\n",
       " 'total': 15174,\n",
       " 'morons': 9672,\n",
       " 'complained': 3305,\n",
       " 'crappy': 3734,\n",
       " 'tip': 15059,\n",
       " 'argued': 1010,\n",
       " 'customer': 3940,\n",
       " 'whether': 16233,\n",
       " 'ordered': 10360,\n",
       " 'rum': 12607,\n",
       " 'cokes': 3171,\n",
       " 'redbull': 12010,\n",
       " 'vodka': 15971,\n",
       " 'already': 722,\n",
       " 'pissed': 11072,\n",
       " 'weirdos': 16192,\n",
       " 'appeals': 928,\n",
       " 'btw': 2193,\n",
       " 'skip': 13438,\n",
       " 'jan': 7991,\n",
       " 'play': 11142,\n",
       " 'cibo': 2972,\n",
       " '3rd': 193,\n",
       " '4th': 224,\n",
       " 'visiting': 15955,\n",
       " 'quaint': 11732,\n",
       " 'turned': 15413,\n",
       " 'yelp': 16537,\n",
       " 'played': 11144,\n",
       " 'taste': 14691,\n",
       " 'buds': 2218,\n",
       " 'fun': 6227,\n",
       " 'brushettas': 2186,\n",
       " 'shared': 13133,\n",
       " 'rustica': 12628,\n",
       " 'delightful': 4215,\n",
       " 'delectable': 4198,\n",
       " 'creps': 3781,\n",
       " 'what': 16216,\n",
       " 'wanted': 16069,\n",
       " 'fresca': 6117,\n",
       " 'fruit': 6189,\n",
       " 'vanilla': 15788,\n",
       " 'whip': 16245,\n",
       " 'mmmm': 9558,\n",
       " 'coma': 3210,\n",
       " 'lovely': 8860,\n",
       " 'stay': 14058,\n",
       " 'courtyard': 3676,\n",
       " 'recently': 11966,\n",
       " 'complaints': 3311,\n",
       " 'right': 12406,\n",
       " 'entered': 5156,\n",
       " 'greeted': 6672,\n",
       " 'helpful': 7099,\n",
       " 'everything': 5308,\n",
       " 'although': 733,\n",
       " 'stayed': 14061,\n",
       " 'thought': 14958,\n",
       " 'rooms': 12522,\n",
       " 'bed': 1570,\n",
       " 'check': 2788,\n",
       " 'room': 12520,\n",
       " 'look': 8812,\n",
       " 'feels': 5637,\n",
       " 'normal': 10059,\n",
       " 'size': 13407,\n",
       " 'tv': 15423,\n",
       " 'desk': 4323,\n",
       " 'chair': 2701,\n",
       " 'wifi': 16295,\n",
       " 'whenever': 16229,\n",
       " 'travel': 15280,\n",
       " 'fast': 5576,\n",
       " 'easily': 4905,\n",
       " 'available': 1258,\n",
       " 'see': 12985,\n",
       " 'gym': 6819,\n",
       " 'again': 575,\n",
       " 'sullivan': 14361,\n",
       " 'hit': 7210,\n",
       " 'spot': 13910,\n",
       " 'outstanding': 10454,\n",
       " 'put': 11715,\n",
       " 'back': 1324,\n",
       " 'perfect': 10876,\n",
       " 'large': 8422,\n",
       " 'group': 6729,\n",
       " 'plus': 11185,\n",
       " 'track': 15213,\n",
       " 'moved': 9713,\n",
       " 'around': 1035,\n",
       " 'socialized': 13623,\n",
       " 'write': 16477,\n",
       " 'few': 5677,\n",
       " 'things': 14932,\n",
       " 'four': 6057,\n",
       " 'far': 5555,\n",
       " 'immensely': 7558,\n",
       " 'paid': 10555,\n",
       " '16': 67,\n",
       " 'a1': 323,\n",
       " 'cha': 2693,\n",
       " 'gio': 6426,\n",
       " 'crispy': 3799,\n",
       " 'egg': 4983,\n",
       " 'rolls': 12505,\n",
       " 'a2': 324,\n",
       " 'goi': 6523,\n",
       " 'cuon': 3897,\n",
       " 'thit': 14947,\n",
       " 'tom': 15110,\n",
       " 'spring': 13927,\n",
       " 'man': 9034,\n",
       " 'walked': 16044,\n",
       " 'ambiance': 761,\n",
       " 'dim': 4435,\n",
       " 'lit': 8728,\n",
       " 'sun': 14375,\n",
       " 'lighting': 8647,\n",
       " 'zen': 16625,\n",
       " 'sauces': 12786,\n",
       " 'idea': 7503,\n",
       " 'pepper': 10858,\n",
       " 'flakes': 5818,\n",
       " 'oil': 10236,\n",
       " 'darker': 4031,\n",
       " 'wow': 16456,\n",
       " 'heat': 7053,\n",
       " 'whatever': 16217,\n",
       " 'doing': 4639,\n",
       " 'stuff': 14261,\n",
       " 'pho': 10961,\n",
       " 'tai': 14597,\n",
       " 'sirloin': 13388,\n",
       " 'soup': 13746,\n",
       " 'p2': 10525,\n",
       " 'broth': 2155,\n",
       " 'enjoying': 5137,\n",
       " 'means': 9253,\n",
       " 'second': 12967,\n",
       " 'third': 14941,\n",
       " 'presentation': 11420,\n",
       " 'plates': 11135,\n",
       " 'change': 2728,\n",
       " 'hope': 7305,\n",
       " 'business': 2292,\n",
       " 'prosperous': 11597,\n",
       " 'wants': 16072,\n",
       " 'boyfriend': 2018,\n",
       " 'awful': 1297,\n",
       " 'bucca': 2200,\n",
       " 'di': 4369,\n",
       " 'beppo': 1656,\n",
       " 'scottsdale': 12891,\n",
       " 'most': 9684,\n",
       " 'terrible': 14844,\n",
       " 'experiences': 5410,\n",
       " 'true': 15357,\n",
       " 'yelper': 16539,\n",
       " 'am': 739,\n",
       " 'homework': 7264,\n",
       " 'suggesting': 14349,\n",
       " 'saw': 12810,\n",
       " 'attention': 1203,\n",
       " 'cheap': 2780,\n",
       " 'knock': 8297,\n",
       " 'til': 15034,\n",
       " 've': 15808,\n",
       " 'tried': 15324,\n",
       " 'yes': 16547,\n",
       " 'divey': 4592,\n",
       " 'dive': 4587,\n",
       " 'gets': 6393,\n",
       " 'isn': 7930,\n",
       " 'clean': 3037,\n",
       " 'hey': 7137,\n",
       " 'vang': 15787,\n",
       " 'khai': 8225,\n",
       " 'hoan': 7224,\n",
       " 'thanh': 14875,\n",
       " 'diviest': 4595,\n",
       " 'spots': 13913,\n",
       " 'town': 15202,\n",
       " '6pm': 268,\n",
       " 'busy': 2304,\n",
       " 'customers': 3941,\n",
       " 'besides': 1667,\n",
       " 'ahead': 602,\n",
       " 'sat': 12767,\n",
       " 'ourselves': 10425,\n",
       " 'down': 4701,\n",
       " 'gave': 6335,\n",
       " 'menus': 9342,\n",
       " 'behind': 1608,\n",
       " 'cash': 2580,\n",
       " 'register': 12083,\n",
       " 'looking': 8814,\n",
       " 'go': 6506,\n",
       " 'visit': 15953,\n",
       " 'ready': 11921,\n",
       " 'order': 10359,\n",
       " 'eye': 5466,\n",
       " 'contact': 3472,\n",
       " 'preoccupied': 11398,\n",
       " 'laughing': 8455,\n",
       " 'talking': 14627,\n",
       " 'pre': 11361,\n",
       " 'teen': 14771,\n",
       " 'sitting': 13399,\n",
       " 'counter': 3648,\n",
       " 'finally': 5740,\n",
       " 'looked': 8813,\n",
       " 'conversation': 3522,\n",
       " '15': 61,\n",
       " 'alert': 668,\n",
       " 'luck': 8886,\n",
       " 'noticed': 10093,\n",
       " 'girl': 6429,\n",
       " 'occasionally': 10184,\n",
       " 'pointing': 11204,\n",
       " 'direction': 4463,\n",
       " 'determined': 4346,\n",
       " 'reviewed': 12345,\n",
       " 'quarter': 11742,\n",
       " 'hour': 7365,\n",
       " 'spent': 13841,\n",
       " 'treated': 15296,\n",
       " 'disrespectful': 4556,\n",
       " 'humiliating': 7427,\n",
       " 'drove': 4798,\n",
       " 'across': 439,\n",
       " 'vietnamese': 15907,\n",
       " 'suggest': 14347,\n",
       " 'acceptable': 377,\n",
       " 'rude': 12588,\n",
       " 'okay': 10245,\n",
       " 'blatantly': 1794,\n",
       " 'done': 4663,\n",
       " 'deserve': 4307,\n",
       " 'treatment': 15298,\n",
       " 'seriously': 13061,\n",
       " 'fuming': 6226,\n",
       " 'anger': 824,\n",
       " 'cannot': 2463,\n",
       " 'excuse': 5364,\n",
       " 'somehow': 13679,\n",
       " 'undeserving': 15550,\n",
       " 'individuals': 7673,\n",
       " 'thanks': 14882,\n",
       " 'disrespected': 4555,\n",
       " 'belittled': 1624,\n",
       " 'plenty': 11166,\n",
       " 'friends': 6143,\n",
       " 'moms': 9613,\n",
       " 'cook': 3540,\n",
       " 'treat': 15295,\n",
       " 'million': 9453,\n",
       " 'top': 15144,\n",
       " 'notch': 10083,\n",
       " 'cheesesteak': 2816,\n",
       " 'delivery': 4228,\n",
       " 'area': 1002,\n",
       " 'located': 8778,\n",
       " 'campus': 2425,\n",
       " 'owners': 10516,\n",
       " 'something': 13683,\n",
       " 'convenient': 3518,\n",
       " 'desserts': 4334,\n",
       " 'wish': 16362,\n",
       " 'chicken': 2849,\n",
       " 'options': 10342,\n",
       " 'said': 12666,\n",
       " 'adding': 474,\n",
       " 'girlfriend': 6431,\n",
       " 'turkey': 15410,\n",
       " 'sandwich': 12740,\n",
       " 'sometimes': 13686,\n",
       " 'carry': 2562,\n",
       " 'kake': 8163,\n",
       " 'ask': 1103,\n",
       " 'authentic': 1238,\n",
       " 'cheesesteaks': 2817,\n",
       " 'philly': 10958,\n",
       " 'tastes': 14698,\n",
       " 'edit': 4950,\n",
       " 'lightning': 8649,\n",
       " 'incredibly': 7649,\n",
       " 'legit': 8546,\n",
       " 'white': 16257,\n",
       " 'american': 771,\n",
       " 'instead': 7785,\n",
       " 'wiz': 16378,\n",
       " 'tossed': 15169,\n",
       " 'prices': 11462,\n",
       " 'huge': 7408,\n",
       " 'kidding': 8238,\n",
       " 'star': 14014,\n",
       " 'rating': 11874,\n",
       " 'love': 8855,\n",
       " 'rave': 11887,\n",
       " 'superb': 14399,\n",
       " 'gelato': 6354,\n",
       " 'owner': 10515,\n",
       " 'takes': 14613,\n",
       " 'pride': 11468,\n",
       " 'real': 11922,\n",
       " 'sugar': 14345,\n",
       " 'high': 7158,\n",
       " 'fructose': 6186,\n",
       " 'corn': 3584,\n",
       " 'syrup': 14564,\n",
       " 'nothing': 10087,\n",
       " 'contains': 3481,\n",
       " 'hydrogenated': 7470,\n",
       " 'settled': 13085,\n",
       " 'coconut': 3154,\n",
       " 'sublime': 14290,\n",
       " 'mid': 9417,\n",
       " 'rush': 12620,\n",
       " 'll': 8754,\n",
       " 'sandwhich': 12738,\n",
       " 'picked': 11001,\n",
       " 'jar': 7998,\n",
       " 'salsa': 12699,\n",
       " 'chips': 2898,\n",
       " 'superbowl': 14401,\n",
       " 'party': 10689,\n",
       " 'attending': 1202,\n",
       " 'sunday': 14380,\n",
       " 'big': 1712,\n",
       " 'blue': 1853,\n",
       " 'adobe': 504,\n",
       " 'chipotle': 2895,\n",
       " 'seasoning': 12955,\n",
       " 'key': 8218,\n",
       " 'ingredients': 7725,\n",
       " 'regardless': 12077,\n",
       " 'buy': 2327,\n",
       " 'take': 14609,\n",
       " 'home': 7257,\n",
       " 'sized': 13408,\n",
       " 'followed': 5959,\n",
       " 'respect': 12273,\n",
       " 'pretty': 11448,\n",
       " 'multi': 9744,\n",
       " 'footed': 5991,\n",
       " 'caregiver': 2526,\n",
       " 'seen': 12998,\n",
       " 'veterinary': 15880,\n",
       " 'clinics': 3071,\n",
       " 'animal': 831,\n",
       " 'hospitals': 7338,\n",
       " 'drill': 4767,\n",
       " 'vacation': 15757,\n",
       " 'sucked': 14328,\n",
       " 'hole': 7244,\n",
       " 'odor': 10205,\n",
       " 'smell': 13536,\n",
       " 'decades': 4107,\n",
       " 'animals': 832,\n",
       " 'paraded': 10641,\n",
       " 'through': 14983,\n",
       " 'doors': 4674,\n",
       " 'pee': 10815,\n",
       " 'soon': 13704,\n",
       " 'enter': 5155,\n",
       " 'shot': 13251,\n",
       " 'leaving': 8521,\n",
       " ...}"
      ]
     },
     "execution_count": 19,
     "metadata": {},
     "output_type": "execute_result"
    }
   ],
   "source": [
    "# Let's take a look at the vocabulary that was generated, containing 16,825 unique words.\n",
    "#   'vocabulary_' is a dictionary that converts each word to its index in the sparse matrix.\n",
    "#   - For example, the word \"four\" is index #3230 in the sparse matrix.\n",
    "\n",
    "vect.vocabulary_"
   ]
  },
  {
   "cell_type": "code",
   "execution_count": 20,
   "metadata": {},
   "outputs": [
    {
     "data": {
      "text/plain": [
       "array([[0, 0, 0, ..., 0, 0, 0],\n",
       "       [0, 0, 0, ..., 0, 0, 0],\n",
       "       [0, 0, 0, ..., 0, 0, 0],\n",
       "       ...,\n",
       "       [0, 0, 0, ..., 0, 0, 0],\n",
       "       [0, 0, 0, ..., 0, 0, 0],\n",
       "       [0, 0, 0, ..., 0, 0, 0]], dtype=int64)"
      ]
     },
     "execution_count": 20,
     "metadata": {},
     "output_type": "execute_result"
    }
   ],
   "source": [
    "# Finally, let's convert the sparse matrix to a typical ndarray using .toarray()\n",
    "#   - Remember, this takes up a lot more memory than the sparse matrix! However, this conversion is sometimes necessary.\n",
    "\n",
    "X_test_dtm.toarray()"
   ]
  },
  {
   "cell_type": "code",
   "execution_count": 21,
   "metadata": {},
   "outputs": [],
   "source": [
    "# We will use this function below for simplicity.\n",
    "\n",
    "# Define a function that accepts a vectorizer and calculates the accuracy.\n",
    "def tokenize_test(vect):\n",
    "    X_train_dtm = vect.fit_transform(X_train)\n",
    "    print(('Features: ', X_train_dtm.shape[1]))\n",
    "    X_test_dtm = vect.transform(X_test)\n",
    "    nb = MultinomialNB()\n",
    "    nb.fit(X_train_dtm, y_train)\n",
    "    y_pred_class = nb.predict(X_test_dtm)\n",
    "    print(('Accuracy: ', metrics.accuracy_score(y_test, y_pred_class)))"
   ]
  },
  {
   "cell_type": "code",
   "execution_count": 22,
   "metadata": {},
   "outputs": [
    {
     "data": {
      "text/plain": [
       "CountVectorizer()"
      ]
     },
     "execution_count": 22,
     "metadata": {},
     "output_type": "execute_result"
    }
   ],
   "source": [
    "vect"
   ]
  },
  {
   "cell_type": "code",
   "execution_count": 23,
   "metadata": {},
   "outputs": [
    {
     "name": "stdout",
     "output_type": "stream",
     "text": [
      "('Features: ', 8747)\n",
      "('Accuracy: ', 0.9334637964774951)\n"
     ]
    }
   ],
   "source": [
    "# min_df ignores words that occur less than twice ('df' means \"document frequency\").\n",
    "vect = CountVectorizer(min_df=2, max_features=10000)\n",
    "tokenize_test(vect)"
   ]
  },
  {
   "cell_type": "markdown",
   "metadata": {},
   "source": [
    "Let's take a look next at other ways of preprocessing text!\n",
    "\n",
    "- **Objective:** Demonstrate common text preprocessing techniques.\n",
    "\n",
    "<a id='ngrams'></a>\n",
    "### N-Grams"
   ]
  },
  {
   "cell_type": "markdown",
   "metadata": {},
   "source": [
    "N-grams are features which consist of N consecutive words. This is useful because using the bag-of-words model, treating `data scientist` as a single feature has more meaning than having two independent features `data` and `scientist`!\n",
    "\n",
    "Example:\n",
    "```\n",
    "my cat is awesome\n",
    "Unigrams (1-grams): 'my', 'cat', 'is', 'awesome'\n",
    "Bigrams (2-grams): 'my cat', 'cat is', 'is awesome'\n",
    "Trigrams (3-grams): 'my cat is', 'cat is awesome'\n",
    "4-grams: 'my cat is awesome'\n",
    "```\n",
    "\n",
    "- **ngram_range:** tuple (min_n, max_n)\n",
    "- The lower and upper boundary of the range of n-values for different n-grams to be extracted. All values of n such that min_n <= n <= max_n will be used."
   ]
  },
  {
   "cell_type": "code",
   "execution_count": 24,
   "metadata": {},
   "outputs": [
    {
     "data": {
      "text/plain": [
       "(3064, 790636)"
      ]
     },
     "execution_count": 24,
     "metadata": {},
     "output_type": "execute_result"
    }
   ],
   "source": [
    "# Include 1-grams and 2-grams.\n",
    "vect = CountVectorizer(ngram_range=(1,4))\n",
    "X_train_dtm = vect.fit_transform(X_train)\n",
    "X_train_dtm.shape"
   ]
  },
  {
   "cell_type": "markdown",
   "metadata": {},
   "source": [
    "We can start to see how supplementing our features with n-grams can lead to more feature columns. When we produce n-grams from a document with $W$ words, we add an additional $(n-W+1)$ features (at most). That said, be careful — when we compute n-grams from an entire corpus, the number of _unique_ n-grams could be vastly higher than the number of _unique_ unigrams! This could cause an undesired feature explosion.\n",
    "\n",
    "Although we sometimes add important new features that have meaning such as `data scientist`, many of the new features will just be noise. So, particularly if we do not have much data, adding n-grams can actually decrease model performance. This is because if each n-gram is only present once or twice in the training set, we are effectively adding mostly noisy features to the mix."
   ]
  },
  {
   "cell_type": "code",
   "execution_count": 25,
   "metadata": {
    "scrolled": true
   },
   "outputs": [
    {
     "name": "stdout",
     "output_type": "stream",
     "text": [
      "['zuchinni the', 'zuchinni the sampler', 'zuchinni the sampler was', 'zumba', 'zumba class', 'zumba class and', 'zumba class and strictly', 'zumba or', 'zumba or cycling', 'zumba or cycling etc', 'zumba yogalates', 'zumba yogalates boot', 'zumba yogalates boot camp', 'zupa', 'zupa flavors', 'zupa flavors are', 'zupa flavors are to', 'zupas', 'zupas cater', 'zupas cater lunch', 'zupas cater lunch at', 'zuzu', 'zuzu in', 'zuzu in downtown', 'zuzu in downtown scottsdale', 'zuzu is', 'zuzu is at', 'zuzu is at the', 'zuzu the', 'zuzu the ultimate', 'zuzu the ultimate compliment', 'zuzu was', 'zuzu was very', 'zuzu was very good', 'zuzus', 'zuzus room', 'zuzus room service', 'zuzus room service too', 'zzed', 'zzed in', 'zzed in my', 'zzed in my pants', 'éclairs', 'éclairs napoleons', 'éclairs napoleons and', 'éclairs napoleons and new', 'ém', 'ém all', 'ém all they', 'ém all they were']\n"
     ]
    }
   ],
   "source": [
    "# Last 50 features\n",
    "print((vect.get_feature_names()[-50:]))"
   ]
  },
  {
   "cell_type": "markdown",
   "metadata": {},
   "source": [
    "<a id='stopwords'></a>\n",
    "\n",
    "### Stop-Word Removal\n",
    "\n",
    "- **What:** This process is used to remove common words that will likely appear in any text.\n",
    "- **Why:** Because common words exist in most documents, they likely only add noise to your model and should be removed.\n",
    "\n",
    "**What are stop words?**\n",
    "Stop words are some of the most common words in a language. They are used so that a sentence makes sense grammatically, such as prepositions and determiners, e.g., \"to,\" \"the,\" \"and.\" However, they are so commonly used that they are generally worthless for predicting the class of a document. Since \"a\" appears in spam and non-spam emails, for example, it would only contribute noise to our model.\n",
    "\n",
    "Example: \n",
    "\n",
    "> 1. Original sentence: \"The dog jumped over the fence\"  \n",
    "> 2. After stop-word removal: \"dog jumped over fence\"\n",
    "\n",
    "The fact that there is a fence and a dog jumped over it can be derived with or without stop words."
   ]
  },
  {
   "cell_type": "code",
   "execution_count": 26,
   "metadata": {},
   "outputs": [
    {
     "data": {
      "text/plain": [
       "CountVectorizer(ngram_range=(1, 4))"
      ]
     },
     "execution_count": 26,
     "metadata": {},
     "output_type": "execute_result"
    }
   ],
   "source": [
    "# Show vectorizer options.\n",
    "vect"
   ]
  },
  {
   "cell_type": "markdown",
   "metadata": {},
   "source": [
    "- **stop_words:** string {`english`}, list, or None (default)\n",
    "- If `english`, a built-in stop word list for English is used.\n",
    "- If a list, that list is assumed to contain stop words, all of which will be removed from the resulting tokens.\n",
    "- If None, no stop words will be used. `max_df` can be set to a value in the range [0.7, 1.0) to automatically detect and filter stop words based on intra corpus document frequency of terms. (If `max_df` = 0.7, then if > 70% of documents contain a word it will not be included in the feature set!)"
   ]
  },
  {
   "cell_type": "code",
   "execution_count": 27,
   "metadata": {},
   "outputs": [
    {
     "name": "stdout",
     "output_type": "stream",
     "text": [
      "('Features: ', 16373)\n",
      "('Accuracy: ', 0.9246575342465754)\n"
     ]
    },
    {
     "data": {
      "text/plain": [
       "{'analyzer': 'word',\n",
       " 'binary': False,\n",
       " 'decode_error': 'strict',\n",
       " 'dtype': numpy.int64,\n",
       " 'encoding': 'utf-8',\n",
       " 'input': 'content',\n",
       " 'lowercase': True,\n",
       " 'max_df': 1.0,\n",
       " 'max_features': None,\n",
       " 'min_df': 1,\n",
       " 'ngram_range': (1, 1),\n",
       " 'preprocessor': None,\n",
       " 'stop_words': 'english',\n",
       " 'strip_accents': None,\n",
       " 'token_pattern': '(?u)\\\\b\\\\w\\\\w+\\\\b',\n",
       " 'tokenizer': None,\n",
       " 'vocabulary': None}"
      ]
     },
     "execution_count": 27,
     "metadata": {},
     "output_type": "execute_result"
    }
   ],
   "source": [
    "# Remove English stop words.\n",
    "vect = CountVectorizer(stop_words='english')\n",
    "tokenize_test(vect)\n",
    "vect.get_params()"
   ]
  },
  {
   "cell_type": "code",
   "execution_count": 28,
   "metadata": {},
   "outputs": [
    {
     "name": "stdout",
     "output_type": "stream",
     "text": [
      "frozenset({'seemed', 'between', 'for', 'six', 'except', 'much', 'every', 'latterly', 'during', 'your', 'next', 'against', 'per', 're', 'through', 'thin', 'are', 'of', 'their', 'someone', 'hereby', 'none', 'yours', 'beyond', 'ever', 'could', 'how', 'couldnt', 'his', 'only', 'never', 'an', 'part', 'whence', 'me', 'will', 'might', 'amongst', 'nobody', 'therefore', 'put', 'bottom', 'indeed', 'not', 'twelve', 'up', 'whole', 'without', 'get', 'together', 'call', 'whither', 'it', 'side', 'here', 'ltd', 'those', 'before', 'each', 'should', 'who', 'anyone', 'most', 'mine', 'due', 'show', 'all', 'if', 'either', 'rather', 'the', 'towards', 'herein', 'wherever', 'is', 'had', 'under', 'throughout', 'last', 'i', 'otherwise', 'else', 'find', 'herself', 'across', 'around', 'whose', 'front', 'fire', 'whenever', 'whom', 'latter', 'amoungst', 'five', 'neither', 'yourselves', 'also', 'whether', 'toward', 'few', 'whereupon', 'another', 'less', 'eight', 'to', 'why', 'describe', 'eg', 'meanwhile', 'sometimes', 'they', 'cry', 'in', 'himself', 'being', 'alone', 'this', 'its', 'behind', 'again', 'off', 'but', 'over', 'moreover', 'too', 'down', 'etc', 'well', 'everywhere', 'sincere', 'hasnt', 'been', 'move', 'further', 'whereafter', 'themselves', 'thru', 'keep', 'sixty', 'these', 'beforehand', 'however', 'de', 'was', 'amount', 'that', 'always', 'top', 'others', 'them', 'whatever', 'sometime', 'about', 'formerly', 'because', 'namely', 'than', 'though', 'hers', 'nothing', 'he', 'hereupon', 'hundred', 'something', 'still', 'fifty', 'system', 'would', 'become', 'nowhere', 'at', 'as', 'a', 'am', 'twenty', 'therein', 'see', 'may', 'nevertheless', 'wherein', 'take', 'do', 'thereafter', 'many', 'please', 'mill', 'cant', 'serious', 'seeming', 'such', 'found', 'her', 'ten', 'third', 'after', 'or', 'cannot', 'when', 'were', 'everyone', 'hereafter', 'she', 'same', 'ours', 'even', 'first', 'nor', 'bill', 'becoming', 'myself', 'from', 'co', 'no', 'which', 'almost', 'done', 'one', 'inc', 'ourselves', 'itself', 'name', 'other', 'some', 'yet', 'us', 'have', 'seems', 'already', 'elsewhere', 'and', 'made', 'mostly', 'above', 'him', 'three', 'must', 'anywhere', 'two', 'then', 'you', 'thus', 'empty', 'nine', 'back', 'often', 'along', 'anyway', 'more', 'somewhere', 'becomes', 'thereupon', 'con', 'thereby', 'four', 'own', 'fifteen', 'we', 'where', 'perhaps', 'thence', 'by', 'noone', 'my', 'thick', 'everything', 'yourself', 'there', 'via', 'several', 'be', 'whereas', 'any', 'until', 'once', 'ie', 'so', 'besides', 'go', 'within', 'afterwards', 'somehow', 'former', 'since', 'while', 'anything', 'became', 'un', 'seem', 'with', 'now', 'onto', 'eleven', 'upon', 'can', 'least', 'anyhow', 'enough', 'forty', 'very', 'what', 'detail', 'give', 'among', 'out', 'below', 'beside', 'fill', 'has', 'whereby', 'although', 'into', 'on', 'our', 'whoever', 'full', 'interest', 'hence', 'both'})\n"
     ]
    }
   ],
   "source": [
    "# Set of stop words\n",
    "print((vect.get_stop_words()))"
   ]
  },
  {
   "cell_type": "markdown",
   "metadata": {},
   "source": [
    "<a id='cvec_opt'></a>\n",
    "### Other CountVectorizer Options"
   ]
  },
  {
   "cell_type": "markdown",
   "metadata": {},
   "source": [
    "- `max_features`: int or None, default=None\n",
    "- If not None, build a vocabulary that only consider the top `max_features` ordered by term frequency across the corpus. This allows us to keep more common n-grams and remove ones that may appear once. If we include words that only occur once, this can lead to said features being highly associated with a class and cause overfitting."
   ]
  },
  {
   "cell_type": "code",
   "execution_count": 29,
   "metadata": {},
   "outputs": [
    {
     "name": "stdout",
     "output_type": "stream",
     "text": [
      "('Features: ', 100)\n",
      "('Accuracy: ', 0.87573385518591)\n"
     ]
    }
   ],
   "source": [
    "# Remove English stop words and only keep 100 features.\n",
    "vect = CountVectorizer(stop_words='english', max_features=100)\n",
    "tokenize_test(vect)"
   ]
  },
  {
   "cell_type": "code",
   "execution_count": 30,
   "metadata": {},
   "outputs": [
    {
     "name": "stdout",
     "output_type": "stream",
     "text": [
      "['amazing', 'area', 'asked', 'awesome', 'bad', 'bar', 'best', 'better', 'big', 'came', 'cheese', 'chicken', 'clean', 'coffee', 'come', 'day', 'definitely', 'delicious', 'did', 'didn', 'different', 'dinner', 'don', 'eat', 'excellent', 'experience', 'favorite', 'feel', 'food', 'fresh', 'friendly', 'friends', 'going', 'good', 'got', 'great', 'happy', 'home', 'hot', 'hour', 'just', 'know', 'like', 'little', 'll', 'location', 'long', 'looking', 'lot', 'love', 'lunch', 'make', 'meal', 'menu', 'minutes', 'new', 'nice', 'night', 'order', 'ordered', 'people', 'perfect', 'phoenix', 'pizza', 'place', 'pretty', 'prices', 'really', 'recommend', 'restaurant', 'right', 'said', 'salad', 'sandwich', 'sauce', 'say', 'service', 'small', 'staff', 'store', 'sure', 'table', 'thing', 'things', 'think', 'time', 'times', 'told', 'took', 'tried', 'try', 've', 'wait', 'want', 'way', 'went', 'wine', 'work', 'worth', 'years']\n"
     ]
    }
   ],
   "source": [
    "# All 100 features\n",
    "print((vect.get_feature_names()))"
   ]
  },
  {
   "cell_type": "markdown",
   "metadata": {},
   "source": [
    "Just like with all other models, more features does not mean a better model. So, we must tune our feature generator to remove features whose predictive capability is none or very low.\n",
    "\n",
    "In this case, there is roughly a 1.6% increase in accuracy when we double the n-gram size and increase our max features by 1,000-fold. Note that if we restrict it to only unigrams, then the accuracy increases even more! So, bigrams were very likely adding more noise than signal. \n",
    "\n",
    "In the end, by only using 16,000 unigram features we came away with a much smaller, simpler, and easier-to-think-about model which also resulted in higher accuracy."
   ]
  },
  {
   "cell_type": "code",
   "execution_count": 31,
   "metadata": {},
   "outputs": [
    {
     "name": "stdout",
     "output_type": "stream",
     "text": [
      "1-grams and 2-grams, up to 100K features:\n",
      "('Features: ', 100000)\n",
      "('Accuracy: ', 0.8786692759295499)\n",
      "\n",
      "1-grams only, up to 100K features:\n",
      "('Features: ', 16669)\n",
      "('Accuracy: ', 0.9246575342465754)\n"
     ]
    }
   ],
   "source": [
    "# Include 1-grams and 2-grams, and limit the number of features.\n",
    "\n",
    "print('1-grams and 2-grams, up to 100K features:')\n",
    "vect = CountVectorizer(ngram_range=(1, 2), max_features=100000)\n",
    "tokenize_test(vect)\n",
    "\n",
    "print()\n",
    "print('1-grams only, up to 100K features:')\n",
    "vect = CountVectorizer(ngram_range=(1, 1), max_features=100000)\n",
    "tokenize_test(vect)"
   ]
  },
  {
   "cell_type": "markdown",
   "metadata": {},
   "source": [
    "- `min_df`: Float in range [0.0, 1.0] or int, default=1\n",
    "- When building the vocabulary ignore terms that have a document frequency strictly lower than the given threshold. This value is also called cut-off in the literature. If float, the parameter represents a proportion of documents, integer absolute counts."
   ]
  },
  {
   "cell_type": "code",
   "execution_count": 32,
   "metadata": {
    "scrolled": true
   },
   "outputs": [
    {
     "name": "stdout",
     "output_type": "stream",
     "text": [
      "('Features: ', 44233)\n",
      "('Accuracy: ', 0.9334637964774951)\n"
     ]
    }
   ],
   "source": [
    "# Include 1-grams and 2-grams, and only include terms that appear at least two times.\n",
    "vect = CountVectorizer(ngram_range=(1, 2), min_df=2)\n",
    "tokenize_test(vect)"
   ]
  },
  {
   "cell_type": "markdown",
   "metadata": {},
   "source": [
    "<a id='textblob'></a>\n",
    "## Introduction to TextBlob\n",
    "\n",
    "You should already have downloaded TextBlob, a Python library used to explore common NLP tasks. If you haven’t, please return to [this step](#textblob_install) for instructions on how to do so. We’ll be using this to organize our corpora for analysis.\n",
    "\n",
    "As mentioned earlier, you can read more on the [TextBlob website](https://textblob.readthedocs.io/en/dev/)."
   ]
  },
  {
   "cell_type": "code",
   "execution_count": 33,
   "metadata": {
    "scrolled": true
   },
   "outputs": [
    {
     "name": "stdout",
     "output_type": "stream",
     "text": [
      "My wife took me here on my birthday for breakfast and it was excellent.  The weather was perfect which made sitting outside overlooking their grounds an absolute pleasure.  Our waitress was excellent and our food arrived quickly on the semi-busy Saturday morning.  It looked like the place fills up pretty quickly so the earlier you get here the better.\n",
      "\n",
      "Do yourself a favor and get their Bloody Mary.  It was phenomenal and simply the best I've ever had.  I'm pretty sure they only use ingredients from their garden and blend them fresh when you order it.  It was amazing.\n",
      "\n",
      "While EVERYTHING on the menu looks excellent, I had the white truffle scrambled eggs vegetable skillet and it was tasty and delicious.  It came with 2 pieces of their griddled bread with was amazing and it absolutely made the meal complete.  It was the best \"toast\" I've ever had.\n",
      "\n",
      "Anyway, I can't wait to go back!\n"
     ]
    }
   ],
   "source": [
    "# Print the first review.\n",
    "print((yelp_best_worst.text[0]))"
   ]
  },
  {
   "cell_type": "code",
   "execution_count": 34,
   "metadata": {},
   "outputs": [],
   "source": [
    "# Save it as a TextBlob object.\n",
    "review = TextBlob(yelp_best_worst.text[0])"
   ]
  },
  {
   "cell_type": "code",
   "execution_count": 35,
   "metadata": {},
   "outputs": [
    {
     "data": {
      "text/plain": [
       "WordList(['My', 'wife', 'took', 'me', 'here', 'on', 'my', 'birthday', 'for', 'breakfast', 'and', 'it', 'was', 'excellent', 'The', 'weather', 'was', 'perfect', 'which', 'made', 'sitting', 'outside', 'overlooking', 'their', 'grounds', 'an', 'absolute', 'pleasure', 'Our', 'waitress', 'was', 'excellent', 'and', 'our', 'food', 'arrived', 'quickly', 'on', 'the', 'semi-busy', 'Saturday', 'morning', 'It', 'looked', 'like', 'the', 'place', 'fills', 'up', 'pretty', 'quickly', 'so', 'the', 'earlier', 'you', 'get', 'here', 'the', 'better', 'Do', 'yourself', 'a', 'favor', 'and', 'get', 'their', 'Bloody', 'Mary', 'It', 'was', 'phenomenal', 'and', 'simply', 'the', 'best', 'I', \"'ve\", 'ever', 'had', 'I', \"'m\", 'pretty', 'sure', 'they', 'only', 'use', 'ingredients', 'from', 'their', 'garden', 'and', 'blend', 'them', 'fresh', 'when', 'you', 'order', 'it', 'It', 'was', 'amazing', 'While', 'EVERYTHING', 'on', 'the', 'menu', 'looks', 'excellent', 'I', 'had', 'the', 'white', 'truffle', 'scrambled', 'eggs', 'vegetable', 'skillet', 'and', 'it', 'was', 'tasty', 'and', 'delicious', 'It', 'came', 'with', '2', 'pieces', 'of', 'their', 'griddled', 'bread', 'with', 'was', 'amazing', 'and', 'it', 'absolutely', 'made', 'the', 'meal', 'complete', 'It', 'was', 'the', 'best', 'toast', 'I', \"'ve\", 'ever', 'had', 'Anyway', 'I', 'ca', \"n't\", 'wait', 'to', 'go', 'back'])"
      ]
     },
     "execution_count": 35,
     "metadata": {},
     "output_type": "execute_result"
    }
   ],
   "source": [
    "# List the words.\n",
    "review.words"
   ]
  },
  {
   "cell_type": "code",
   "execution_count": 36,
   "metadata": {},
   "outputs": [
    {
     "data": {
      "text/plain": [
       "[Sentence(\"My wife took me here on my birthday for breakfast and it was excellent.\"),\n",
       " Sentence(\"The weather was perfect which made sitting outside overlooking their grounds an absolute pleasure.\"),\n",
       " Sentence(\"Our waitress was excellent and our food arrived quickly on the semi-busy Saturday morning.\"),\n",
       " Sentence(\"It looked like the place fills up pretty quickly so the earlier you get here the better.\"),\n",
       " Sentence(\"Do yourself a favor and get their Bloody Mary.\"),\n",
       " Sentence(\"It was phenomenal and simply the best I've ever had.\"),\n",
       " Sentence(\"I'm pretty sure they only use ingredients from their garden and blend them fresh when you order it.\"),\n",
       " Sentence(\"It was amazing.\"),\n",
       " Sentence(\"While EVERYTHING on the menu looks excellent, I had the white truffle scrambled eggs vegetable skillet and it was tasty and delicious.\"),\n",
       " Sentence(\"It came with 2 pieces of their griddled bread with was amazing and it absolutely made the meal complete.\"),\n",
       " Sentence(\"It was the best \"toast\" I've ever had.\"),\n",
       " Sentence(\"Anyway, I can't wait to go back!\")]"
      ]
     },
     "execution_count": 36,
     "metadata": {},
     "output_type": "execute_result"
    }
   ],
   "source": [
    "# List the sentences.\n",
    "review.sentences"
   ]
  },
  {
   "cell_type": "code",
   "execution_count": 37,
   "metadata": {},
   "outputs": [
    {
     "data": {
      "text/plain": [
       "TextBlob(\"my wife took me here on my birthday for breakfast and it was excellent.  the weather was perfect which made sitting outside overlooking their grounds an absolute pleasure.  our waitress was excellent and our food arrived quickly on the semi-busy saturday morning.  it looked like the place fills up pretty quickly so the earlier you get here the better.\n",
       "\n",
       "do yourself a favor and get their bloody mary.  it was phenomenal and simply the best i've ever had.  i'm pretty sure they only use ingredients from their garden and blend them fresh when you order it.  it was amazing.\n",
       "\n",
       "while everything on the menu looks excellent, i had the white truffle scrambled eggs vegetable skillet and it was tasty and delicious.  it came with 2 pieces of their griddled bread with was amazing and it absolutely made the meal complete.  it was the best \"toast\" i've ever had.\n",
       "\n",
       "anyway, i can't wait to go back!\")"
      ]
     },
     "execution_count": 37,
     "metadata": {},
     "output_type": "execute_result"
    }
   ],
   "source": [
    "# Some string methods are available.\n",
    "review.lower()"
   ]
  },
  {
   "cell_type": "markdown",
   "metadata": {},
   "source": [
    "<a id='stem'></a>\n",
    "## Stemming and Lemmatization\n",
    "\n",
    "Stemming is a crude process of removing common endings from sentences, such as \"s\", \"es\", \"ly\", \"ing\", and \"ed\".\n",
    "\n",
    "- **What:** Reduce a word to its base/stem/root form.\n",
    "- **Why:** This intelligently reduces the number of features by grouping together (hopefully) related words.\n",
    "- **Notes:**\n",
    "    - Stemming uses a simple and fast rule-based approach.\n",
    "    - Stemmed words are usually not shown to users (used for analysis/indexing).\n",
    "    - Some search engines treat words with the same stem as synonyms."
   ]
  },
  {
   "cell_type": "code",
   "execution_count": 38,
   "metadata": {},
   "outputs": [
    {
     "name": "stdout",
     "output_type": "stream",
     "text": [
      "['my', 'wife', 'took', 'me', 'here', 'on', 'my', 'birthday', 'for', 'breakfast', 'and', 'it', 'was', 'excel', 'the', 'weather', 'was', 'perfect', 'which', 'made', 'sit', 'outsid', 'overlook', 'their', 'ground', 'an', 'absolut', 'pleasur', 'our', 'waitress', 'was', 'excel', 'and', 'our', 'food', 'arriv', 'quick', 'on', 'the', 'semi-busi', 'saturday', 'morn', 'it', 'look', 'like', 'the', 'place', 'fill', 'up', 'pretti', 'quick', 'so', 'the', 'earlier', 'you', 'get', 'here', 'the', 'better', 'do', 'yourself', 'a', 'favor', 'and', 'get', 'their', 'bloodi', 'mari', 'it', 'was', 'phenomen', 'and', 'simpli', 'the', 'best', 'i', 've', 'ever', 'had', 'i', \"'m\", 'pretti', 'sure', 'they', 'onli', 'use', 'ingredi', 'from', 'their', 'garden', 'and', 'blend', 'them', 'fresh', 'when', 'you', 'order', 'it', 'it', 'was', 'amaz', 'while', 'everyth', 'on', 'the', 'menu', 'look', 'excel', 'i', 'had', 'the', 'white', 'truffl', 'scrambl', 'egg', 'veget', 'skillet', 'and', 'it', 'was', 'tasti', 'and', 'delici', 'it', 'came', 'with', '2', 'piec', 'of', 'their', 'griddl', 'bread', 'with', 'was', 'amaz', 'and', 'it', 'absolut', 'made', 'the', 'meal', 'complet', 'it', 'was', 'the', 'best', 'toast', 'i', 've', 'ever', 'had', 'anyway', 'i', 'ca', \"n't\", 'wait', 'to', 'go', 'back']\n"
     ]
    }
   ],
   "source": [
    "# Initialize stemmer.\n",
    "stemmer = SnowballStemmer('english')\n",
    "\n",
    "# Stem each word.\n",
    "print([stemmer.stem(word) for word in review.words])"
   ]
  },
  {
   "cell_type": "markdown",
   "metadata": {},
   "source": [
    "Some examples you can see are \"excellent\" stemmed to \"excel\" and \"amazing\" stemmed to \"amaz\"."
   ]
  },
  {
   "cell_type": "markdown",
   "metadata": {},
   "source": [
    "Lemmatization is a more refined process that uses specific language and grammar rules to derive the root of a word.  \n",
    "\n",
    "This is useful for words that do not share an obvious root such as \"better\" and \"best\".\n",
    "\n",
    "- **What:** Lemmatization derives the canonical form (\"lemma\") of a word.\n",
    "- **Why:** It can be better than stemming.\n",
    "- **Notes:** Uses a dictionary-based approach (slower than stemming)."
   ]
  },
  {
   "cell_type": "code",
   "execution_count": 39,
   "metadata": {},
   "outputs": [
    {
     "name": "stdout",
     "output_type": "stream",
     "text": [
      "['My', 'wife', 'took', 'me', 'here', 'on', 'my', 'birthday', 'for', 'breakfast', 'and', 'it', 'wa', 'excellent', 'The', 'weather', 'wa', 'perfect', 'which', 'made', 'sitting', 'outside', 'overlooking', 'their', 'ground', 'an', 'absolute', 'pleasure', 'Our', 'waitress', 'wa', 'excellent', 'and', 'our', 'food', 'arrived', 'quickly', 'on', 'the', 'semi-busy', 'Saturday', 'morning', 'It', 'looked', 'like', 'the', 'place', 'fill', 'up', 'pretty', 'quickly', 'so', 'the', 'earlier', 'you', 'get', 'here', 'the', 'better', 'Do', 'yourself', 'a', 'favor', 'and', 'get', 'their', 'Bloody', 'Mary', 'It', 'wa', 'phenomenal', 'and', 'simply', 'the', 'best', 'I', \"'ve\", 'ever', 'had', 'I', \"'m\", 'pretty', 'sure', 'they', 'only', 'use', 'ingredient', 'from', 'their', 'garden', 'and', 'blend', 'them', 'fresh', 'when', 'you', 'order', 'it', 'It', 'wa', 'amazing', 'While', 'EVERYTHING', 'on', 'the', 'menu', 'look', 'excellent', 'I', 'had', 'the', 'white', 'truffle', 'scrambled', 'egg', 'vegetable', 'skillet', 'and', 'it', 'wa', 'tasty', 'and', 'delicious', 'It', 'came', 'with', '2', 'piece', 'of', 'their', 'griddled', 'bread', 'with', 'wa', 'amazing', 'and', 'it', 'absolutely', 'made', 'the', 'meal', 'complete', 'It', 'wa', 'the', 'best', 'toast', 'I', \"'ve\", 'ever', 'had', 'Anyway', 'I', 'ca', \"n't\", 'wait', 'to', 'go', 'back']\n"
     ]
    }
   ],
   "source": [
    "# Assume every word is a noun.\n",
    "print([word.lemmatize() for word in review.words])"
   ]
  },
  {
   "cell_type": "markdown",
   "metadata": {},
   "source": [
    "Some examples you can see are \"filled\" lemmatized to \"fill\" and \"was\" lemmatized to \"wa\".\n"
   ]
  },
  {
   "cell_type": "code",
   "execution_count": 40,
   "metadata": {},
   "outputs": [
    {
     "name": "stdout",
     "output_type": "stream",
     "text": [
      "['My', 'wife', 'take', 'me', 'here', 'on', 'my', 'birthday', 'for', 'breakfast', 'and', 'it', 'be', 'excellent', 'The', 'weather', 'be', 'perfect', 'which', 'make', 'sit', 'outside', 'overlook', 'their', 'ground', 'an', 'absolute', 'pleasure', 'Our', 'waitress', 'be', 'excellent', 'and', 'our', 'food', 'arrive', 'quickly', 'on', 'the', 'semi-busy', 'Saturday', 'morning', 'It', 'look', 'like', 'the', 'place', 'fill', 'up', 'pretty', 'quickly', 'so', 'the', 'earlier', 'you', 'get', 'here', 'the', 'better', 'Do', 'yourself', 'a', 'favor', 'and', 'get', 'their', 'Bloody', 'Mary', 'It', 'be', 'phenomenal', 'and', 'simply', 'the', 'best', 'I', \"'ve\", 'ever', 'have', 'I', \"'m\", 'pretty', 'sure', 'they', 'only', 'use', 'ingredients', 'from', 'their', 'garden', 'and', 'blend', 'them', 'fresh', 'when', 'you', 'order', 'it', 'It', 'be', 'amaze', 'While', 'EVERYTHING', 'on', 'the', 'menu', 'look', 'excellent', 'I', 'have', 'the', 'white', 'truffle', 'scramble', 'egg', 'vegetable', 'skillet', 'and', 'it', 'be', 'tasty', 'and', 'delicious', 'It', 'come', 'with', '2', 'piece', 'of', 'their', 'griddle', 'bread', 'with', 'be', 'amaze', 'and', 'it', 'absolutely', 'make', 'the', 'meal', 'complete', 'It', 'be', 'the', 'best', 'toast', 'I', \"'ve\", 'ever', 'have', 'Anyway', 'I', 'ca', \"n't\", 'wait', 'to', 'go', 'back']\n"
     ]
    }
   ],
   "source": [
    "# Assume every word is a verb.\n",
    "print([word.lemmatize(pos='v') for word in review.words])"
   ]
  },
  {
   "cell_type": "markdown",
   "metadata": {},
   "source": [
    "Some examples you can see are \"was\" lemmatized to \"be\" and \"arrived\" lemmatized to \"arrive\"."
   ]
  },
  {
   "cell_type": "markdown",
   "metadata": {},
   "source": [
    "**More Lemmatization and Stemming Examples**\n",
    "\n",
    "|Lemmatization|Stemming|\n",
    "|-------------|---------|\n",
    "|shouted → shout|badly → bad|\n",
    "|best → good|computing → comput|\n",
    "|better → good|computed → comput|\n",
    "|good → good|wipes → wip|\n",
    "|wiping → wipe|wiped → wip|\n",
    "|hidden → hide|wiping → wip|"
   ]
  },
  {
   "cell_type": "markdown",
   "metadata": {},
   "source": [
    "### What do you think?\n",
    "- What other words or phrases might cause problems with stemming? Why?\n",
    "- What other words or phrases might cause problems with lemmatization? Why?\n",
    "\n",
    "----\n",
    "\n"
   ]
  },
  {
   "cell_type": "markdown",
   "metadata": {},
   "source": [
    "With all the available options for `CountVectorizer()`, you may wonder how to decide which to use! It's true that you can sometimes reason about which preprocessing techniques might work best. However, you will often not know for sure without trying out many different combinations and comparing their accuracies. \n",
    "\n",
    "> Keep in mind that you should constantly be thinking about the result of each preprocessing step instead of blindly trying them without thinking. Does each type of preprocessing \"makes sense\" with the input data you are using? Is it likely to keep intact the signal and remove noise?"
   ]
  },
  {
   "cell_type": "markdown",
   "metadata": {},
   "source": [
    "<a id='tfidf'></a>\n",
    "## Term Frequency–Inverse Document Frequency (TF–IDF)\n",
    "\n",
    "\n",
    "<img src=\"./images/tfdif.png\" width=\"600\" height=\"600\" align=\"center\"/>\n",
    "\n",
    "While a Count Vectorizer simply totals up the number of times a \"word\" appears in a document, the more complex TF-IDF Vectorizer analyzes the uniqueness of words between documents to find distinguishing characteristics. \n",
    "     \n",
    "- **What:** Term frequency–inverse document frequency (TF–IDF) computes the \"relative frequency\" with which a word appears in a document, compared to its frequency across all documents.\n",
    "- **Why:** It's more useful than \"term frequency\" for identifying \"important\" words in each document (high frequency in that document, low frequency in other documents).\n",
    "- **Notes:** It's used for search-engine scoring, text summarization, and document clustering."
   ]
  },
  {
   "cell_type": "code",
   "execution_count": 41,
   "metadata": {},
   "outputs": [],
   "source": [
    "# Example documents\n",
    "simple_train = ['call you tonight', 'Call me a cab', 'please call me... PLEASE!']"
   ]
  },
  {
   "cell_type": "code",
   "execution_count": 42,
   "metadata": {},
   "outputs": [
    {
     "data": {
      "text/html": [
       "<div>\n",
       "<style scoped>\n",
       "    .dataframe tbody tr th:only-of-type {\n",
       "        vertical-align: middle;\n",
       "    }\n",
       "\n",
       "    .dataframe tbody tr th {\n",
       "        vertical-align: top;\n",
       "    }\n",
       "\n",
       "    .dataframe thead th {\n",
       "        text-align: right;\n",
       "    }\n",
       "</style>\n",
       "<table border=\"1\" class=\"dataframe\">\n",
       "  <thead>\n",
       "    <tr style=\"text-align: right;\">\n",
       "      <th></th>\n",
       "      <th>cab</th>\n",
       "      <th>call</th>\n",
       "      <th>me</th>\n",
       "      <th>please</th>\n",
       "      <th>tonight</th>\n",
       "      <th>you</th>\n",
       "    </tr>\n",
       "  </thead>\n",
       "  <tbody>\n",
       "    <tr>\n",
       "      <th>0</th>\n",
       "      <td>0</td>\n",
       "      <td>1</td>\n",
       "      <td>0</td>\n",
       "      <td>0</td>\n",
       "      <td>1</td>\n",
       "      <td>1</td>\n",
       "    </tr>\n",
       "    <tr>\n",
       "      <th>1</th>\n",
       "      <td>1</td>\n",
       "      <td>1</td>\n",
       "      <td>1</td>\n",
       "      <td>0</td>\n",
       "      <td>0</td>\n",
       "      <td>0</td>\n",
       "    </tr>\n",
       "    <tr>\n",
       "      <th>2</th>\n",
       "      <td>0</td>\n",
       "      <td>1</td>\n",
       "      <td>1</td>\n",
       "      <td>2</td>\n",
       "      <td>0</td>\n",
       "      <td>0</td>\n",
       "    </tr>\n",
       "  </tbody>\n",
       "</table>\n",
       "</div>"
      ],
      "text/plain": [
       "   cab  call  me  please  tonight  you\n",
       "0    0     1   0       0        1    1\n",
       "1    1     1   1       0        0    0\n",
       "2    0     1   1       2        0    0"
      ]
     },
     "execution_count": 42,
     "metadata": {},
     "output_type": "execute_result"
    }
   ],
   "source": [
    "# Term frequency\n",
    "vect = CountVectorizer()\n",
    "tf = pd.DataFrame(vect.fit_transform(simple_train).toarray(), columns=vect.get_feature_names())\n",
    "tf"
   ]
  },
  {
   "cell_type": "code",
   "execution_count": 43,
   "metadata": {},
   "outputs": [
    {
     "data": {
      "text/html": [
       "<div>\n",
       "<style scoped>\n",
       "    .dataframe tbody tr th:only-of-type {\n",
       "        vertical-align: middle;\n",
       "    }\n",
       "\n",
       "    .dataframe tbody tr th {\n",
       "        vertical-align: top;\n",
       "    }\n",
       "\n",
       "    .dataframe thead th {\n",
       "        text-align: right;\n",
       "    }\n",
       "</style>\n",
       "<table border=\"1\" class=\"dataframe\">\n",
       "  <thead>\n",
       "    <tr style=\"text-align: right;\">\n",
       "      <th></th>\n",
       "      <th>cab</th>\n",
       "      <th>call</th>\n",
       "      <th>me</th>\n",
       "      <th>please</th>\n",
       "      <th>tonight</th>\n",
       "      <th>you</th>\n",
       "    </tr>\n",
       "  </thead>\n",
       "  <tbody>\n",
       "    <tr>\n",
       "      <th>0</th>\n",
       "      <td>1</td>\n",
       "      <td>3</td>\n",
       "      <td>2</td>\n",
       "      <td>1</td>\n",
       "      <td>1</td>\n",
       "      <td>1</td>\n",
       "    </tr>\n",
       "  </tbody>\n",
       "</table>\n",
       "</div>"
      ],
      "text/plain": [
       "   cab  call  me  please  tonight  you\n",
       "0    1     3   2       1        1    1"
      ]
     },
     "execution_count": 43,
     "metadata": {},
     "output_type": "execute_result"
    }
   ],
   "source": [
    "# Document frequency\n",
    "vect = CountVectorizer(binary=True)\n",
    "df = vect.fit_transform(simple_train).toarray().sum(axis=0)\n",
    "pd.DataFrame(df.reshape(1, 6), columns=vect.get_feature_names())"
   ]
  },
  {
   "cell_type": "code",
   "execution_count": 44,
   "metadata": {},
   "outputs": [
    {
     "data": {
      "text/html": [
       "<div>\n",
       "<style scoped>\n",
       "    .dataframe tbody tr th:only-of-type {\n",
       "        vertical-align: middle;\n",
       "    }\n",
       "\n",
       "    .dataframe tbody tr th {\n",
       "        vertical-align: top;\n",
       "    }\n",
       "\n",
       "    .dataframe thead th {\n",
       "        text-align: right;\n",
       "    }\n",
       "</style>\n",
       "<table border=\"1\" class=\"dataframe\">\n",
       "  <thead>\n",
       "    <tr style=\"text-align: right;\">\n",
       "      <th></th>\n",
       "      <th>cab</th>\n",
       "      <th>call</th>\n",
       "      <th>me</th>\n",
       "      <th>please</th>\n",
       "      <th>tonight</th>\n",
       "      <th>you</th>\n",
       "    </tr>\n",
       "  </thead>\n",
       "  <tbody>\n",
       "    <tr>\n",
       "      <th>0</th>\n",
       "      <td>0.0</td>\n",
       "      <td>0.333333</td>\n",
       "      <td>0.0</td>\n",
       "      <td>0.0</td>\n",
       "      <td>1.0</td>\n",
       "      <td>1.0</td>\n",
       "    </tr>\n",
       "    <tr>\n",
       "      <th>1</th>\n",
       "      <td>1.0</td>\n",
       "      <td>0.333333</td>\n",
       "      <td>0.5</td>\n",
       "      <td>0.0</td>\n",
       "      <td>0.0</td>\n",
       "      <td>0.0</td>\n",
       "    </tr>\n",
       "    <tr>\n",
       "      <th>2</th>\n",
       "      <td>0.0</td>\n",
       "      <td>0.333333</td>\n",
       "      <td>0.5</td>\n",
       "      <td>2.0</td>\n",
       "      <td>0.0</td>\n",
       "      <td>0.0</td>\n",
       "    </tr>\n",
       "  </tbody>\n",
       "</table>\n",
       "</div>"
      ],
      "text/plain": [
       "   cab      call   me  please  tonight  you\n",
       "0  0.0  0.333333  0.0     0.0      1.0  1.0\n",
       "1  1.0  0.333333  0.5     0.0      0.0  0.0\n",
       "2  0.0  0.333333  0.5     2.0      0.0  0.0"
      ]
     },
     "execution_count": 44,
     "metadata": {},
     "output_type": "execute_result"
    }
   ],
   "source": [
    "# Term frequency–inverse document frequency (simple version)\n",
    "tf/df"
   ]
  },
  {
   "cell_type": "markdown",
   "metadata": {},
   "source": [
    "The higher the TF–IDF value, the more \"important\" the word is to that specific document. Here, \"cab\" is the most important and unique word in document 1, while \"please\" is the most important and unique word in document 2. TF–IDF is often used for training as a replacement for word count."
   ]
  },
  {
   "cell_type": "code",
   "execution_count": 45,
   "metadata": {
    "scrolled": true
   },
   "outputs": [
    {
     "data": {
      "text/html": [
       "<div>\n",
       "<style scoped>\n",
       "    .dataframe tbody tr th:only-of-type {\n",
       "        vertical-align: middle;\n",
       "    }\n",
       "\n",
       "    .dataframe tbody tr th {\n",
       "        vertical-align: top;\n",
       "    }\n",
       "\n",
       "    .dataframe thead th {\n",
       "        text-align: right;\n",
       "    }\n",
       "</style>\n",
       "<table border=\"1\" class=\"dataframe\">\n",
       "  <thead>\n",
       "    <tr style=\"text-align: right;\">\n",
       "      <th></th>\n",
       "      <th>cab</th>\n",
       "      <th>call</th>\n",
       "      <th>me</th>\n",
       "      <th>please</th>\n",
       "      <th>tonight</th>\n",
       "      <th>you</th>\n",
       "    </tr>\n",
       "  </thead>\n",
       "  <tbody>\n",
       "    <tr>\n",
       "      <th>0</th>\n",
       "      <td>0.000000</td>\n",
       "      <td>0.385372</td>\n",
       "      <td>0.000000</td>\n",
       "      <td>0.000000</td>\n",
       "      <td>0.652491</td>\n",
       "      <td>0.652491</td>\n",
       "    </tr>\n",
       "    <tr>\n",
       "      <th>1</th>\n",
       "      <td>0.720333</td>\n",
       "      <td>0.425441</td>\n",
       "      <td>0.547832</td>\n",
       "      <td>0.000000</td>\n",
       "      <td>0.000000</td>\n",
       "      <td>0.000000</td>\n",
       "    </tr>\n",
       "    <tr>\n",
       "      <th>2</th>\n",
       "      <td>0.000000</td>\n",
       "      <td>0.266075</td>\n",
       "      <td>0.342620</td>\n",
       "      <td>0.901008</td>\n",
       "      <td>0.000000</td>\n",
       "      <td>0.000000</td>\n",
       "    </tr>\n",
       "  </tbody>\n",
       "</table>\n",
       "</div>"
      ],
      "text/plain": [
       "        cab      call        me    please   tonight       you\n",
       "0  0.000000  0.385372  0.000000  0.000000  0.652491  0.652491\n",
       "1  0.720333  0.425441  0.547832  0.000000  0.000000  0.000000\n",
       "2  0.000000  0.266075  0.342620  0.901008  0.000000  0.000000"
      ]
     },
     "execution_count": 45,
     "metadata": {},
     "output_type": "execute_result"
    }
   ],
   "source": [
    "# TfidfVectorizer\n",
    "vect = TfidfVectorizer()\n",
    "pd.DataFrame(vect.fit_transform(simple_train).toarray(), columns=vect.get_feature_names())"
   ]
  },
  {
   "cell_type": "markdown",
   "metadata": {},
   "source": [
    "**More details:** [TF–IDF is about what matters](http://planspace.org/20150524-tfidf_is_about_what_matters/)"
   ]
  },
  {
   "cell_type": "markdown",
   "metadata": {},
   "source": [
    "<a id='yelp_tfidf'></a>\n",
    "## Using TF–IDF to Summarize a Yelp Review\n",
    "\n",
    "Reddit's autotldr uses the [SMMRY](http://smmry.com/about) algorithm, which is based on TF–IDF."
   ]
  },
  {
   "cell_type": "code",
   "execution_count": 46,
   "metadata": {},
   "outputs": [
    {
     "data": {
      "text/plain": [
       "(10000, 28880)"
      ]
     },
     "execution_count": 46,
     "metadata": {},
     "output_type": "execute_result"
    }
   ],
   "source": [
    "# Create a document-term matrix using TF–IDF.\n",
    "vect = TfidfVectorizer(stop_words='english')\n",
    "\n",
    "# Fit transform Yelp data.\n",
    "dtm = vect.fit_transform(yelp.text)\n",
    "features = vect.get_feature_names()\n",
    "dtm.shape"
   ]
  },
  {
   "cell_type": "code",
   "execution_count": 47,
   "metadata": {},
   "outputs": [
    {
     "data": {
      "text/plain": [
       "['00',\n",
       " '000',\n",
       " '007',\n",
       " '00a',\n",
       " '00am',\n",
       " '00pm',\n",
       " '01',\n",
       " '02',\n",
       " '03',\n",
       " '03342',\n",
       " '04',\n",
       " '05',\n",
       " '06',\n",
       " '07',\n",
       " '08',\n",
       " '09',\n",
       " '0buxoc0crqjpvkezo3bqog',\n",
       " '0l',\n",
       " '0tzg',\n",
       " '10',\n",
       " '100',\n",
       " '1000',\n",
       " '1000x',\n",
       " '1001',\n",
       " '100lbs',\n",
       " '100s',\n",
       " '100th',\n",
       " '101',\n",
       " '102',\n",
       " '102729',\n",
       " '1030',\n",
       " '104',\n",
       " '105',\n",
       " '1070',\n",
       " '107f',\n",
       " '108',\n",
       " '109',\n",
       " '10am',\n",
       " '10ish',\n",
       " '10k',\n",
       " '10min',\n",
       " '10mins',\n",
       " '10minutes',\n",
       " '10oz',\n",
       " '10p',\n",
       " '10pm',\n",
       " '10th',\n",
       " '10x',\n",
       " '10yo',\n",
       " '11',\n",
       " '110',\n",
       " '1100',\n",
       " '111',\n",
       " '111th',\n",
       " '112',\n",
       " '113',\n",
       " '1130',\n",
       " '114',\n",
       " '1145',\n",
       " '115',\n",
       " '115th',\n",
       " '116',\n",
       " '117',\n",
       " '118',\n",
       " '11a',\n",
       " '11am',\n",
       " '11p',\n",
       " '11pm',\n",
       " '11th',\n",
       " '11year',\n",
       " '12',\n",
       " '120',\n",
       " '1200',\n",
       " '12000',\n",
       " '1202',\n",
       " '123',\n",
       " '124',\n",
       " '125',\n",
       " '128i',\n",
       " '129',\n",
       " '12a',\n",
       " '12am',\n",
       " '12k',\n",
       " '12oz',\n",
       " '12pm',\n",
       " '12th',\n",
       " '13',\n",
       " '130',\n",
       " '1300',\n",
       " '13331',\n",
       " '135',\n",
       " '13th',\n",
       " '13yr',\n",
       " '14',\n",
       " '140',\n",
       " '147',\n",
       " '149',\n",
       " '14lbs',\n",
       " '15',\n",
       " '150',\n",
       " '1500',\n",
       " '150k',\n",
       " '150mm',\n",
       " '157',\n",
       " '15am',\n",
       " '15ft',\n",
       " '15min',\n",
       " '15mins',\n",
       " '15pm',\n",
       " '15th',\n",
       " '16',\n",
       " '160',\n",
       " '1600',\n",
       " '162',\n",
       " '165',\n",
       " '1664',\n",
       " '169',\n",
       " '16oz',\n",
       " '16th',\n",
       " '16thh',\n",
       " '17',\n",
       " '170',\n",
       " '175',\n",
       " '177',\n",
       " '17cents',\n",
       " '17p',\n",
       " '17th',\n",
       " '18',\n",
       " '180',\n",
       " '1800',\n",
       " '184',\n",
       " '1892',\n",
       " '1895',\n",
       " '1899',\n",
       " '18th',\n",
       " '19',\n",
       " '1900',\n",
       " '1910',\n",
       " '1913',\n",
       " '1920',\n",
       " '1920s',\n",
       " '1926',\n",
       " '1928',\n",
       " '1929',\n",
       " '1930s',\n",
       " '1940',\n",
       " '19485',\n",
       " '1950',\n",
       " '1950s',\n",
       " '1952',\n",
       " '1955',\n",
       " '1956',\n",
       " '1960',\n",
       " '1961',\n",
       " '1962',\n",
       " '1965',\n",
       " '1968',\n",
       " '1969',\n",
       " '1970',\n",
       " '1970s',\n",
       " '1973',\n",
       " '1978',\n",
       " '1980',\n",
       " '1980s',\n",
       " '1983',\n",
       " '1987',\n",
       " '199',\n",
       " '1990',\n",
       " '1990s',\n",
       " '1991',\n",
       " '1992',\n",
       " '1993',\n",
       " '1994',\n",
       " '1995',\n",
       " '1996',\n",
       " '1997',\n",
       " '1998',\n",
       " '1999',\n",
       " '19chptx8ahwztpc5xiarfq',\n",
       " '19th',\n",
       " '1am',\n",
       " '1b',\n",
       " '1cent',\n",
       " '1hour',\n",
       " '1jzambgdea9yyvasa8rukq',\n",
       " '1k',\n",
       " '1min',\n",
       " '1oz',\n",
       " '1p',\n",
       " '1paote8ys9ujup3u4djhiq',\n",
       " '1pm',\n",
       " '1st',\n",
       " '1star',\n",
       " '20',\n",
       " '200',\n",
       " '2000',\n",
       " '2001',\n",
       " '2002',\n",
       " '2003',\n",
       " '2004',\n",
       " '2005',\n",
       " '2006',\n",
       " '2007',\n",
       " '2008',\n",
       " '2009',\n",
       " '200lb',\n",
       " '200lbs',\n",
       " '201',\n",
       " '2010',\n",
       " '20100421',\n",
       " '2011',\n",
       " '2012',\n",
       " '2013',\n",
       " '202',\n",
       " '205',\n",
       " '20mbs',\n",
       " '20miles',\n",
       " '20min',\n",
       " '20minutes',\n",
       " '20oz',\n",
       " '20pm',\n",
       " '20s',\n",
       " '20th',\n",
       " '20x',\n",
       " '21',\n",
       " '215',\n",
       " '21st',\n",
       " '22',\n",
       " '220',\n",
       " '2240',\n",
       " '22oz',\n",
       " '23',\n",
       " '230',\n",
       " '23a',\n",
       " '23rd',\n",
       " '24',\n",
       " '2400',\n",
       " '24hours',\n",
       " '24hr',\n",
       " '24hrs',\n",
       " '24st',\n",
       " '24th',\n",
       " '25',\n",
       " '250',\n",
       " '2500hd',\n",
       " '25b',\n",
       " '25min',\n",
       " '25oz',\n",
       " '25th',\n",
       " '26',\n",
       " '260',\n",
       " '2600',\n",
       " '2608',\n",
       " '2669',\n",
       " '26oz',\n",
       " '26th',\n",
       " '27',\n",
       " '270',\n",
       " '272',\n",
       " '275',\n",
       " '27th',\n",
       " '28',\n",
       " '284',\n",
       " '2852',\n",
       " '29',\n",
       " '2939',\n",
       " '2983024079',\n",
       " '299',\n",
       " '29th',\n",
       " '2am',\n",
       " '2k',\n",
       " '2lb',\n",
       " '2mbps',\n",
       " '2nd',\n",
       " '2pac',\n",
       " '2pm',\n",
       " '2rd',\n",
       " '2wice',\n",
       " '2x',\n",
       " '2x4',\n",
       " '2xu',\n",
       " '30',\n",
       " '300',\n",
       " '3000',\n",
       " '30a',\n",
       " '30am',\n",
       " '30ish',\n",
       " '30k',\n",
       " '30min',\n",
       " '30mins',\n",
       " '30p',\n",
       " '30pm',\n",
       " '30s',\n",
       " '30something',\n",
       " '30th',\n",
       " '30x',\n",
       " '31',\n",
       " '311',\n",
       " '312',\n",
       " '316',\n",
       " '32',\n",
       " '320',\n",
       " '325',\n",
       " '32nd',\n",
       " '32oz',\n",
       " '33',\n",
       " '33lb',\n",
       " '33rd',\n",
       " '34',\n",
       " '340',\n",
       " '3400',\n",
       " '341',\n",
       " '34th',\n",
       " '35',\n",
       " '350',\n",
       " '3500',\n",
       " '350ib',\n",
       " '35c',\n",
       " '35th',\n",
       " '36',\n",
       " '360',\n",
       " '365',\n",
       " '37',\n",
       " '370',\n",
       " '38',\n",
       " '38th',\n",
       " '39',\n",
       " '399',\n",
       " '39th',\n",
       " '3am',\n",
       " '3chicken',\n",
       " '3d',\n",
       " '3g',\n",
       " '3k',\n",
       " '3l',\n",
       " '3lb',\n",
       " '3lbs',\n",
       " '3n9u549zse8up',\n",
       " '3oz',\n",
       " '3p',\n",
       " '3pm',\n",
       " '3rd',\n",
       " '3s',\n",
       " '3tacos',\n",
       " '3x',\n",
       " '40',\n",
       " '400',\n",
       " '4000',\n",
       " '400s',\n",
       " '40ish',\n",
       " '40k',\n",
       " '40lm',\n",
       " '40min',\n",
       " '40pm',\n",
       " '40s',\n",
       " '40th',\n",
       " '41',\n",
       " '411',\n",
       " '411247',\n",
       " '4113416766',\n",
       " '42',\n",
       " '420',\n",
       " '43',\n",
       " '43rd',\n",
       " '44',\n",
       " '4458',\n",
       " '44oz',\n",
       " '44th',\n",
       " '45',\n",
       " '450',\n",
       " '453990',\n",
       " '45am',\n",
       " '45min',\n",
       " '45mins',\n",
       " '45pm',\n",
       " '45sec',\n",
       " '46',\n",
       " '4655',\n",
       " '46th',\n",
       " '47',\n",
       " '470',\n",
       " '475',\n",
       " '48',\n",
       " '480',\n",
       " '48th',\n",
       " '49',\n",
       " '490',\n",
       " '49er',\n",
       " '49ers',\n",
       " '49lb',\n",
       " '49th',\n",
       " '4am',\n",
       " '4b',\n",
       " '4cxbhzxxtmexf9krjmfviq',\n",
       " '4f',\n",
       " '4hr',\n",
       " '4ish',\n",
       " '4k',\n",
       " '4oz',\n",
       " '4p',\n",
       " '4peaks',\n",
       " '4pm',\n",
       " '4s',\n",
       " '4stars',\n",
       " '4th',\n",
       " '4ths',\n",
       " '4x',\n",
       " '4x6',\n",
       " '50',\n",
       " '500',\n",
       " '500sq',\n",
       " '505',\n",
       " '50cents',\n",
       " '50ft',\n",
       " '50lb',\n",
       " '50lm',\n",
       " '50s',\n",
       " '50x',\n",
       " '51',\n",
       " '5130',\n",
       " '51pm',\n",
       " '51st',\n",
       " '52',\n",
       " '5231',\n",
       " '53',\n",
       " '530',\n",
       " '53pm',\n",
       " '54',\n",
       " '547',\n",
       " '55',\n",
       " '5500',\n",
       " '56',\n",
       " '57',\n",
       " '57th',\n",
       " '58',\n",
       " '59',\n",
       " '59th',\n",
       " '5am',\n",
       " '5gb',\n",
       " '5h',\n",
       " '5ish',\n",
       " '5k',\n",
       " '5l',\n",
       " '5min',\n",
       " '5minutes',\n",
       " '5nzmttmomgj_svixktm51q',\n",
       " '5oz',\n",
       " '5p',\n",
       " '5pm',\n",
       " '5s',\n",
       " '5star',\n",
       " '5stars',\n",
       " '5th',\n",
       " '5yo',\n",
       " '60',\n",
       " '600',\n",
       " '6000',\n",
       " '602',\n",
       " '60f',\n",
       " '60miles',\n",
       " '60s',\n",
       " '60th',\n",
       " '61',\n",
       " '61st',\n",
       " '62',\n",
       " '62010',\n",
       " '623',\n",
       " '63',\n",
       " '630am',\n",
       " '64',\n",
       " '64oz',\n",
       " '64th',\n",
       " '65',\n",
       " '66',\n",
       " '6600',\n",
       " '67',\n",
       " '68',\n",
       " '680',\n",
       " '68th',\n",
       " '69',\n",
       " '696',\n",
       " '6am',\n",
       " '6ivet3g9ew',\n",
       " '6k',\n",
       " '6oz',\n",
       " '6p',\n",
       " '6pm',\n",
       " '6th',\n",
       " '6ths',\n",
       " '70',\n",
       " '700',\n",
       " '7000',\n",
       " '70s',\n",
       " '70th',\n",
       " '71',\n",
       " '71st',\n",
       " '72',\n",
       " '730',\n",
       " '730pm',\n",
       " '74',\n",
       " '747',\n",
       " '74th',\n",
       " '75',\n",
       " '750',\n",
       " '755891987',\n",
       " '757',\n",
       " '75cents',\n",
       " '75th',\n",
       " '76',\n",
       " '767',\n",
       " '777',\n",
       " '78',\n",
       " '7807',\n",
       " '79',\n",
       " '7a',\n",
       " '7am',\n",
       " '7ish',\n",
       " '7p',\n",
       " '7pm',\n",
       " '7th',\n",
       " '80',\n",
       " '800',\n",
       " '8000hp',\n",
       " '801',\n",
       " '80f',\n",
       " '80s',\n",
       " '80th',\n",
       " '81',\n",
       " '82',\n",
       " '83',\n",
       " '832',\n",
       " '8330',\n",
       " '83rd',\n",
       " '84',\n",
       " '845',\n",
       " '85',\n",
       " '85154658',\n",
       " '85340',\n",
       " '86',\n",
       " '87',\n",
       " '88',\n",
       " '89',\n",
       " '8am',\n",
       " '8inch',\n",
       " '8ish',\n",
       " '8oz',\n",
       " '8pc',\n",
       " '8pm',\n",
       " '8ppl',\n",
       " '8th',\n",
       " '8v',\n",
       " '8x10',\n",
       " '8x10s',\n",
       " '8xzd9ms7yvnaeavn1irgsq',\n",
       " '8yo',\n",
       " '90',\n",
       " '9000',\n",
       " '90210',\n",
       " '90min',\n",
       " '90minute',\n",
       " '90s',\n",
       " '90yr',\n",
       " '91',\n",
       " '911',\n",
       " '91st',\n",
       " '92',\n",
       " '92nd',\n",
       " '93',\n",
       " '94',\n",
       " '945am',\n",
       " '9495',\n",
       " '95',\n",
       " '96',\n",
       " '96th',\n",
       " '97',\n",
       " '977',\n",
       " '98',\n",
       " '99',\n",
       " '9999',\n",
       " '99cent',\n",
       " '99shillings',\n",
       " '99th',\n",
       " '9am',\n",
       " '9ers',\n",
       " '9ga',\n",
       " '9ish',\n",
       " '9oz',\n",
       " '9p',\n",
       " '9pm',\n",
       " '9th',\n",
       " '9year',\n",
       " '9yo',\n",
       " '_4xhxtuykqnyphmylm',\n",
       " '______',\n",
       " '_______',\n",
       " '_______________',\n",
       " '____berto',\n",
       " '_accommodating',\n",
       " '_affordable',\n",
       " '_c',\n",
       " '_finally_',\n",
       " '_gyib8ea4hdfylss17zc_g',\n",
       " '_l7o1zhq9edno1lhv9b10g',\n",
       " '_reasonable',\n",
       " '_she',\n",
       " '_third_',\n",
       " '_us_',\n",
       " '_very',\n",
       " 'a1',\n",
       " 'a2',\n",
       " 'aa',\n",
       " 'aaa',\n",
       " 'aaaaaalright',\n",
       " 'aaaamazing',\n",
       " 'aaammmazzing',\n",
       " 'aaand',\n",
       " 'aah',\n",
       " 'aand',\n",
       " 'aaron',\n",
       " 'aarp',\n",
       " 'ab',\n",
       " 'aback',\n",
       " 'abacus',\n",
       " 'abandon',\n",
       " 'abandoned',\n",
       " 'abandoning',\n",
       " 'abba',\n",
       " 'abbaye',\n",
       " 'abbey',\n",
       " 'abbreviate',\n",
       " 'abbreviated',\n",
       " 'abbreviations',\n",
       " 'abby',\n",
       " 'abc',\n",
       " 'abdomen',\n",
       " 'abe',\n",
       " 'aberration',\n",
       " 'abhor',\n",
       " 'abides',\n",
       " 'abiding',\n",
       " 'abilities',\n",
       " 'ability',\n",
       " 'abilty',\n",
       " 'abita',\n",
       " 'able',\n",
       " 'abnormally',\n",
       " 'abode',\n",
       " 'abodoba',\n",
       " 'abogado',\n",
       " 'abou',\n",
       " 'abound',\n",
       " 'abrasion',\n",
       " 'abrasive',\n",
       " 'abreast',\n",
       " 'abridged',\n",
       " 'abroad',\n",
       " 'abrupt',\n",
       " 'abruptly',\n",
       " 'abs',\n",
       " 'absence',\n",
       " 'absense',\n",
       " 'absent',\n",
       " 'absinthe',\n",
       " 'abslutely',\n",
       " 'absoloutely',\n",
       " 'absolut',\n",
       " 'absolute',\n",
       " 'absolutely',\n",
       " 'absolutley',\n",
       " 'absolutly',\n",
       " 'absorb',\n",
       " 'absorbed',\n",
       " 'absorption',\n",
       " 'abstain',\n",
       " 'abstained',\n",
       " 'abstract',\n",
       " 'absurd',\n",
       " 'absurdly',\n",
       " 'absynthe',\n",
       " 'abt',\n",
       " 'abuelita',\n",
       " 'abuelo',\n",
       " 'abuelos',\n",
       " 'abundance',\n",
       " 'abundant',\n",
       " 'abundantly',\n",
       " 'abuse',\n",
       " 'abused',\n",
       " 'abusive',\n",
       " 'abysmal',\n",
       " 'ac',\n",
       " 'acacia',\n",
       " 'academie',\n",
       " 'academy',\n",
       " 'acadia',\n",
       " 'acai',\n",
       " 'acapulco',\n",
       " 'accelerometer',\n",
       " 'accent',\n",
       " 'accented',\n",
       " 'accents',\n",
       " 'accept',\n",
       " 'acceptable',\n",
       " 'accepted',\n",
       " 'accepting',\n",
       " 'accepts',\n",
       " 'accesible',\n",
       " 'accesories',\n",
       " 'access',\n",
       " 'accessbile',\n",
       " 'accessed',\n",
       " 'accessibility',\n",
       " 'accessible',\n",
       " 'accessibly',\n",
       " 'accessories',\n",
       " 'accessorize',\n",
       " 'accessory',\n",
       " 'accident',\n",
       " 'accidental',\n",
       " 'accidentally',\n",
       " 'accidentily',\n",
       " 'accidently',\n",
       " 'accidents',\n",
       " 'acclaimed',\n",
       " 'acclimated',\n",
       " 'acclimating',\n",
       " 'accolades',\n",
       " 'accomidating',\n",
       " 'accommodate',\n",
       " 'accommodated',\n",
       " 'accommodates',\n",
       " 'accommodating',\n",
       " 'accommodation',\n",
       " 'accommodations',\n",
       " 'accomodate',\n",
       " 'accomodated',\n",
       " 'accomodates',\n",
       " 'accomodating',\n",
       " 'accomodation',\n",
       " 'accomodations',\n",
       " 'accompanied',\n",
       " 'accompanies',\n",
       " 'accompaniment',\n",
       " 'accompaniments',\n",
       " 'accompany',\n",
       " 'accompanying',\n",
       " 'accomplice',\n",
       " 'accomplish',\n",
       " 'accomplished',\n",
       " 'accomplishment',\n",
       " 'accomplishments',\n",
       " 'according',\n",
       " 'accordingly',\n",
       " 'account',\n",
       " 'accountability',\n",
       " 'accountable',\n",
       " 'accountant',\n",
       " 'accounting',\n",
       " 'accounts',\n",
       " 'accoutrement',\n",
       " 'accoutrements',\n",
       " 'accredited',\n",
       " 'accross',\n",
       " 'accumulate',\n",
       " 'accumulated',\n",
       " 'accuracy',\n",
       " 'accurate',\n",
       " 'accurately',\n",
       " 'accusation',\n",
       " 'accused',\n",
       " 'accustom',\n",
       " 'accustomed',\n",
       " 'accutemp',\n",
       " 'ace',\n",
       " 'aces',\n",
       " 'acess',\n",
       " 'acetone',\n",
       " 'ache',\n",
       " 'aches',\n",
       " 'achieve',\n",
       " 'achieved',\n",
       " 'achievement',\n",
       " 'achieves',\n",
       " 'achieving',\n",
       " 'aching',\n",
       " 'acid',\n",
       " 'acidic',\n",
       " 'acknowledge',\n",
       " 'acknowledged',\n",
       " 'acknowledgement',\n",
       " 'acknowledging',\n",
       " 'acknowledgment',\n",
       " 'ackward',\n",
       " 'acme',\n",
       " 'acne',\n",
       " 'acommodations',\n",
       " 'acoustic',\n",
       " 'acoustician',\n",
       " 'acoustics',\n",
       " 'acquaintance',\n",
       " 'acquainted',\n",
       " 'acquaintence',\n",
       " 'acquire',\n",
       " 'acquired',\n",
       " 'acquisition',\n",
       " 'acres',\n",
       " 'acrid',\n",
       " 'acrimonious',\n",
       " 'acrylic',\n",
       " 'acrylics',\n",
       " 'act',\n",
       " 'actaully',\n",
       " 'acted',\n",
       " 'acting',\n",
       " 'action',\n",
       " 'actions',\n",
       " 'activation',\n",
       " 'active',\n",
       " 'actively',\n",
       " 'activism',\n",
       " 'activities',\n",
       " 'activity',\n",
       " 'actor',\n",
       " 'actors',\n",
       " 'actress',\n",
       " 'acts',\n",
       " 'actual',\n",
       " 'actuality',\n",
       " 'actually',\n",
       " 'actualy',\n",
       " 'actuators',\n",
       " 'actully',\n",
       " 'acuity',\n",
       " 'acupuncturist',\n",
       " 'acute',\n",
       " 'acxupuncturist',\n",
       " 'acy',\n",
       " 'ad',\n",
       " 'ada',\n",
       " 'adage',\n",
       " 'adam',\n",
       " 'adamant',\n",
       " 'adams',\n",
       " 'adapted',\n",
       " 'adapter',\n",
       " 'adaptive',\n",
       " 'adaquate',\n",
       " 'adaquet',\n",
       " 'add',\n",
       " 'addage',\n",
       " 'addd',\n",
       " 'added',\n",
       " 'addendum',\n",
       " 'addict',\n",
       " 'addicted',\n",
       " 'addicting',\n",
       " 'addictingly',\n",
       " 'addiction',\n",
       " 'addictionovercome',\n",
       " 'addictions',\n",
       " 'addictive',\n",
       " 'addicts',\n",
       " 'addidas',\n",
       " 'adding',\n",
       " 'addition',\n",
       " 'additional',\n",
       " 'additionally',\n",
       " 'additions',\n",
       " 'additive',\n",
       " 'additives',\n",
       " 'address',\n",
       " 'addressed',\n",
       " 'addresses',\n",
       " 'addressing',\n",
       " 'adds',\n",
       " 'addtl',\n",
       " 'ade',\n",
       " 'adelman',\n",
       " 'adequate',\n",
       " 'adequately',\n",
       " 'adhere',\n",
       " 'adhered',\n",
       " 'adherence',\n",
       " 'adhesive',\n",
       " 'adidas',\n",
       " 'adios',\n",
       " 'adjacent',\n",
       " 'adjective',\n",
       " 'adjectives',\n",
       " 'adjoining',\n",
       " 'adjunct',\n",
       " 'adjust',\n",
       " 'adjusted',\n",
       " 'adjusting',\n",
       " 'adjustment',\n",
       " 'adjustments',\n",
       " 'administration',\n",
       " 'administrative',\n",
       " 'administrators',\n",
       " 'admirable',\n",
       " 'admire',\n",
       " 'admired',\n",
       " 'admiring',\n",
       " 'admission',\n",
       " 'admissions',\n",
       " 'admit',\n",
       " 'admits',\n",
       " 'admitted',\n",
       " 'admittedly',\n",
       " 'admitting',\n",
       " 'admonishment',\n",
       " 'ado',\n",
       " 'adobada',\n",
       " 'adobe',\n",
       " 'adobo',\n",
       " 'adolescence',\n",
       " 'adolescent',\n",
       " 'adopt',\n",
       " 'adopted',\n",
       " 'adopting',\n",
       " 'adoption',\n",
       " 'adoptions',\n",
       " 'adorable',\n",
       " 'adorably',\n",
       " 'adorama',\n",
       " 'adoration',\n",
       " 'adore',\n",
       " 'adored',\n",
       " 'adores',\n",
       " 'adorn',\n",
       " 'adorned',\n",
       " 'adorning',\n",
       " 'adovada',\n",
       " 'adquate',\n",
       " 'adrenaline',\n",
       " 'adria',\n",
       " 'adrian',\n",
       " 'adriana',\n",
       " 'adrianne',\n",
       " 'adriatica',\n",
       " 'adrienne',\n",
       " 'ads',\n",
       " 'adult',\n",
       " 'adulthood',\n",
       " 'adults',\n",
       " 'adults_night_out',\n",
       " 'advance',\n",
       " 'advanced',\n",
       " 'advancing',\n",
       " 'advantage',\n",
       " 'advantages',\n",
       " 'advent',\n",
       " 'adventure',\n",
       " 'adventurer',\n",
       " 'adventures',\n",
       " 'adventuresome',\n",
       " 'adventurous',\n",
       " 'adventurousness',\n",
       " 'adverse',\n",
       " 'adversity',\n",
       " 'advertise',\n",
       " 'advertised',\n",
       " 'advertisement',\n",
       " 'advertisements',\n",
       " 'advertises',\n",
       " 'advertising',\n",
       " 'advertisments',\n",
       " 'advertized',\n",
       " 'adverts',\n",
       " 'advice',\n",
       " 'advise',\n",
       " 'advised',\n",
       " 'adviser',\n",
       " 'advising',\n",
       " 'advisor',\n",
       " 'advisors',\n",
       " 'advocate',\n",
       " 'advocated',\n",
       " 'ae',\n",
       " 'aea',\n",
       " 'aeg',\n",
       " 'aegean',\n",
       " 'aerators',\n",
       " 'aerobic',\n",
       " 'aerobics',\n",
       " 'aeropostale',\n",
       " 'aeropress',\n",
       " 'aerosol',\n",
       " 'aesthetic',\n",
       " 'aesthetically',\n",
       " 'aesthetician',\n",
       " 'aestheticians',\n",
       " 'aesthetics',\n",
       " 'afar',\n",
       " 'affair',\n",
       " 'affect',\n",
       " 'affected',\n",
       " 'affectionately',\n",
       " 'affects',\n",
       " 'afficianados',\n",
       " ...]"
      ]
     },
     "execution_count": 47,
     "metadata": {},
     "output_type": "execute_result"
    }
   ],
   "source": [
    "features"
   ]
  },
  {
   "cell_type": "code",
   "execution_count": 48,
   "metadata": {},
   "outputs": [],
   "source": [
    "def summarize():\n",
    "    \n",
    "    # Choose a random review that is at least 300 characters.\n",
    "    review_length = 0\n",
    "    while review_length < 300:\n",
    "        review_id = np.random.randint(0, len(yelp))\n",
    "        review_text = yelp.text[review_id]\n",
    "        #review_text = unicode(yelp.text[review_id], 'utf-8')\n",
    "        review_length = len(review_text)\n",
    "    \n",
    "    # Create a dictionary of words and their TF–IDF scores.\n",
    "    word_scores = {}\n",
    "    for word in TextBlob(review_text).words:\n",
    "        word = word.lower()\n",
    "        if word in features:\n",
    "            word_scores[word] = dtm[review_id, features.index(word)]\n",
    "    \n",
    "    # Print words with the top five TF–IDF scores.\n",
    "    print('TOP SCORING WORDS:')\n",
    "    top_scores = sorted(list(word_scores.items()), key=lambda x: x[1], reverse=True)[:5]\n",
    "    for word, score in top_scores:\n",
    "        print(word)\n",
    "        \n",
    "    print('\\nLeast SCORING WORDS:')\n",
    "    low_scores = sorted(list(word_scores.items()), key=lambda x: x[1], reverse=True)[-5:]\n",
    "    for word, score in low_scores:\n",
    "        print(word)\n",
    "    \n",
    "    # Print five random words.\n",
    "    print(('\\n' + 'RANDOM WORDS:'))\n",
    "    random_words = np.random.choice(list(word_scores.keys()), size=5, replace=False)\n",
    "    for word in random_words:\n",
    "        print(word)\n",
    "    \n",
    "    # Print the review.\n",
    "    print(('\\n' + review_text))"
   ]
  },
  {
   "cell_type": "code",
   "execution_count": 49,
   "metadata": {},
   "outputs": [
    {
     "name": "stdout",
     "output_type": "stream",
     "text": [
      "TOP SCORING WORDS:\n",
      "books\n",
      "markings\n",
      "nerdy\n",
      "quitting\n",
      "rainy\n",
      "\n",
      "Least SCORING WORDS:\n",
      "want\n",
      "say\n",
      "better\n",
      "just\n",
      "like\n",
      "\n",
      "RANDOM WORDS:\n",
      "tears\n",
      "reminds\n",
      "boring\n",
      "nerdy\n",
      "hello\n",
      "\n",
      "I was blown away at the sheer NUMBER of books and magazines. Then when I looked at the prices- that was even better. There were books I found that were brand new and had no markings or tears, and they were still at half-price! Not to mention, if you're nerdy like me it has the 'old book' smell throughout the store. Reminds me of a rainy day in the library. My only complaint is the grumpy employees.. I get it- your job might be boring, but at least smile and return the \"hello\". As for their product knowledge, where everything is located, etc... I cannot complain. I will be back again and again. Let's just say books are an addiction of mine, and I don't want help quitting.\n"
     ]
    }
   ],
   "source": [
    "summarize()"
   ]
  },
  {
   "cell_type": "markdown",
   "metadata": {},
   "source": [
    "<a id='sentiment'></a>\n",
    "## Sentiment Analysis\n",
    "\n",
    "Understanding how positive or negative a review is. There are many ways in practice to compute a sentiment value. For example:\n",
    "\n",
    "- Have a list of \"positive\" words and a list of \"negative\" words and count how many occur in a document. \n",
    "- Train a classifier given many examples of \"positive\" documents and \"negative\" documents. \n",
    "    - Note that this technique is often just an automated way to derive the first (e.g., using bag-of-words with logistic regression, a coefficient is assigned to each word!).\n",
    "\n",
    "For the most accurate sentiment analysis, you will want to train a custom sentiment model based on documents that are particular to your application. Generic models (such as the one we are about to use!) often do not work as well as hoped.\n",
    "\n",
    "As we will do below, always make sure you double-check that the algorithm is working by manually verifying that scores correctly correspond to positive/negative reviews! Otherwise, you may be using numbers that are not accurate."
   ]
  },
  {
   "cell_type": "code",
   "execution_count": 50,
   "metadata": {},
   "outputs": [
    {
     "name": "stdout",
     "output_type": "stream",
     "text": [
      "My wife took me here on my birthday for breakfast and it was excellent.  The weather was perfect which made sitting outside overlooking their grounds an absolute pleasure.  Our waitress was excellent and our food arrived quickly on the semi-busy Saturday morning.  It looked like the place fills up pretty quickly so the earlier you get here the better.\n",
      "\n",
      "Do yourself a favor and get their Bloody Mary.  It was phenomenal and simply the best I've ever had.  I'm pretty sure they only use ingredients from their garden and blend them fresh when you order it.  It was amazing.\n",
      "\n",
      "While EVERYTHING on the menu looks excellent, I had the white truffle scrambled eggs vegetable skillet and it was tasty and delicious.  It came with 2 pieces of their griddled bread with was amazing and it absolutely made the meal complete.  It was the best \"toast\" I've ever had.\n",
      "\n",
      "Anyway, I can't wait to go back!\n"
     ]
    }
   ],
   "source": [
    "print(review)"
   ]
  },
  {
   "cell_type": "code",
   "execution_count": 51,
   "metadata": {},
   "outputs": [
    {
     "data": {
      "text/plain": [
       "0.40246913580246907"
      ]
     },
     "execution_count": 51,
     "metadata": {},
     "output_type": "execute_result"
    }
   ],
   "source": [
    "# Polarity ranges from -1 (most negative) to 1 (most positive).\n",
    "review.sentiment.polarity"
   ]
  },
  {
   "cell_type": "code",
   "execution_count": 52,
   "metadata": {},
   "outputs": [
    {
     "data": {
      "text/html": [
       "<div>\n",
       "<style scoped>\n",
       "    .dataframe tbody tr th:only-of-type {\n",
       "        vertical-align: middle;\n",
       "    }\n",
       "\n",
       "    .dataframe tbody tr th {\n",
       "        vertical-align: top;\n",
       "    }\n",
       "\n",
       "    .dataframe thead th {\n",
       "        text-align: right;\n",
       "    }\n",
       "</style>\n",
       "<table border=\"1\" class=\"dataframe\">\n",
       "  <thead>\n",
       "    <tr style=\"text-align: right;\">\n",
       "      <th></th>\n",
       "      <th>business_id</th>\n",
       "      <th>date</th>\n",
       "      <th>review_id</th>\n",
       "      <th>stars</th>\n",
       "      <th>text</th>\n",
       "      <th>type</th>\n",
       "      <th>user_id</th>\n",
       "      <th>cool</th>\n",
       "      <th>useful</th>\n",
       "      <th>funny</th>\n",
       "      <th>length</th>\n",
       "    </tr>\n",
       "  </thead>\n",
       "  <tbody>\n",
       "    <tr>\n",
       "      <th>0</th>\n",
       "      <td>9yKzy9PApeiPPOUJEtnvkg</td>\n",
       "      <td>2011-01-26</td>\n",
       "      <td>fWKvX83p0-ka4JS3dc6E5A</td>\n",
       "      <td>5</td>\n",
       "      <td>My wife took me here on my birthday for breakf...</td>\n",
       "      <td>review</td>\n",
       "      <td>rLtl8ZkDX5vH5nAx9C3q5Q</td>\n",
       "      <td>2</td>\n",
       "      <td>5</td>\n",
       "      <td>0</td>\n",
       "      <td>895</td>\n",
       "    </tr>\n",
       "    <tr>\n",
       "      <th>1</th>\n",
       "      <td>ZRJwVLyzEJq1VAihDhYiow</td>\n",
       "      <td>2011-07-27</td>\n",
       "      <td>IjZ33sJrzXqU-0X6U8NwyA</td>\n",
       "      <td>5</td>\n",
       "      <td>I have no idea why some people give bad review...</td>\n",
       "      <td>review</td>\n",
       "      <td>0a2KyEL0d3Yb1V6aivbIuQ</td>\n",
       "      <td>0</td>\n",
       "      <td>0</td>\n",
       "      <td>0</td>\n",
       "      <td>1349</td>\n",
       "    </tr>\n",
       "    <tr>\n",
       "      <th>2</th>\n",
       "      <td>6oRAC4uyJCsJl1X0WZpVSA</td>\n",
       "      <td>2012-06-14</td>\n",
       "      <td>IESLBzqUCLdSzSqm0eCSxQ</td>\n",
       "      <td>4</td>\n",
       "      <td>love the gyro plate. Rice is so good and I als...</td>\n",
       "      <td>review</td>\n",
       "      <td>0hT2KtfLiobPvh6cDC8JQg</td>\n",
       "      <td>0</td>\n",
       "      <td>1</td>\n",
       "      <td>0</td>\n",
       "      <td>76</td>\n",
       "    </tr>\n",
       "  </tbody>\n",
       "</table>\n",
       "</div>"
      ],
      "text/plain": [
       "              business_id        date               review_id  stars  \\\n",
       "0  9yKzy9PApeiPPOUJEtnvkg  2011-01-26  fWKvX83p0-ka4JS3dc6E5A      5   \n",
       "1  ZRJwVLyzEJq1VAihDhYiow  2011-07-27  IjZ33sJrzXqU-0X6U8NwyA      5   \n",
       "2  6oRAC4uyJCsJl1X0WZpVSA  2012-06-14  IESLBzqUCLdSzSqm0eCSxQ      4   \n",
       "\n",
       "                                                text    type  \\\n",
       "0  My wife took me here on my birthday for breakf...  review   \n",
       "1  I have no idea why some people give bad review...  review   \n",
       "2  love the gyro plate. Rice is so good and I als...  review   \n",
       "\n",
       "                  user_id  cool  useful  funny  length  \n",
       "0  rLtl8ZkDX5vH5nAx9C3q5Q     2       5      0     895  \n",
       "1  0a2KyEL0d3Yb1V6aivbIuQ     0       0      0    1349  \n",
       "2  0hT2KtfLiobPvh6cDC8JQg     0       1      0      76  "
      ]
     },
     "execution_count": 52,
     "metadata": {},
     "output_type": "execute_result"
    }
   ],
   "source": [
    "# Understanding the apply method\n",
    "yelp['length'] = yelp.text.apply(len)\n",
    "yelp.head(3)"
   ]
  },
  {
   "cell_type": "code",
   "execution_count": 53,
   "metadata": {},
   "outputs": [],
   "source": [
    "# Define a function that accepts text and returns the polarity.\n",
    "def detect_sentiment(text):\n",
    "    return TextBlob(text).sentiment.polarity\n",
    "    #return TextBlob(text).sentiment.polarity"
   ]
  },
  {
   "cell_type": "code",
   "execution_count": 54,
   "metadata": {},
   "outputs": [],
   "source": [
    "# Create a new DataFrame column for sentiment (Warning: SLOW!).\n",
    "yelp['sentiment'] = yelp.text.apply(detect_sentiment)"
   ]
  },
  {
   "cell_type": "code",
   "execution_count": 55,
   "metadata": {},
   "outputs": [
    {
     "data": {
      "text/html": [
       "<div>\n",
       "<style scoped>\n",
       "    .dataframe tbody tr th:only-of-type {\n",
       "        vertical-align: middle;\n",
       "    }\n",
       "\n",
       "    .dataframe tbody tr th {\n",
       "        vertical-align: top;\n",
       "    }\n",
       "\n",
       "    .dataframe thead th {\n",
       "        text-align: right;\n",
       "    }\n",
       "</style>\n",
       "<table border=\"1\" class=\"dataframe\">\n",
       "  <thead>\n",
       "    <tr style=\"text-align: right;\">\n",
       "      <th></th>\n",
       "      <th>business_id</th>\n",
       "      <th>date</th>\n",
       "      <th>review_id</th>\n",
       "      <th>stars</th>\n",
       "      <th>text</th>\n",
       "      <th>type</th>\n",
       "      <th>user_id</th>\n",
       "      <th>cool</th>\n",
       "      <th>useful</th>\n",
       "      <th>funny</th>\n",
       "      <th>length</th>\n",
       "      <th>sentiment</th>\n",
       "    </tr>\n",
       "  </thead>\n",
       "  <tbody>\n",
       "    <tr>\n",
       "      <th>0</th>\n",
       "      <td>9yKzy9PApeiPPOUJEtnvkg</td>\n",
       "      <td>2011-01-26</td>\n",
       "      <td>fWKvX83p0-ka4JS3dc6E5A</td>\n",
       "      <td>5</td>\n",
       "      <td>My wife took me here on my birthday for breakf...</td>\n",
       "      <td>review</td>\n",
       "      <td>rLtl8ZkDX5vH5nAx9C3q5Q</td>\n",
       "      <td>2</td>\n",
       "      <td>5</td>\n",
       "      <td>0</td>\n",
       "      <td>895</td>\n",
       "      <td>0.402469</td>\n",
       "    </tr>\n",
       "    <tr>\n",
       "      <th>1</th>\n",
       "      <td>ZRJwVLyzEJq1VAihDhYiow</td>\n",
       "      <td>2011-07-27</td>\n",
       "      <td>IjZ33sJrzXqU-0X6U8NwyA</td>\n",
       "      <td>5</td>\n",
       "      <td>I have no idea why some people give bad review...</td>\n",
       "      <td>review</td>\n",
       "      <td>0a2KyEL0d3Yb1V6aivbIuQ</td>\n",
       "      <td>0</td>\n",
       "      <td>0</td>\n",
       "      <td>0</td>\n",
       "      <td>1349</td>\n",
       "      <td>0.229773</td>\n",
       "    </tr>\n",
       "    <tr>\n",
       "      <th>2</th>\n",
       "      <td>6oRAC4uyJCsJl1X0WZpVSA</td>\n",
       "      <td>2012-06-14</td>\n",
       "      <td>IESLBzqUCLdSzSqm0eCSxQ</td>\n",
       "      <td>4</td>\n",
       "      <td>love the gyro plate. Rice is so good and I als...</td>\n",
       "      <td>review</td>\n",
       "      <td>0hT2KtfLiobPvh6cDC8JQg</td>\n",
       "      <td>0</td>\n",
       "      <td>1</td>\n",
       "      <td>0</td>\n",
       "      <td>76</td>\n",
       "      <td>0.566667</td>\n",
       "    </tr>\n",
       "  </tbody>\n",
       "</table>\n",
       "</div>"
      ],
      "text/plain": [
       "              business_id        date               review_id  stars  \\\n",
       "0  9yKzy9PApeiPPOUJEtnvkg  2011-01-26  fWKvX83p0-ka4JS3dc6E5A      5   \n",
       "1  ZRJwVLyzEJq1VAihDhYiow  2011-07-27  IjZ33sJrzXqU-0X6U8NwyA      5   \n",
       "2  6oRAC4uyJCsJl1X0WZpVSA  2012-06-14  IESLBzqUCLdSzSqm0eCSxQ      4   \n",
       "\n",
       "                                                text    type  \\\n",
       "0  My wife took me here on my birthday for breakf...  review   \n",
       "1  I have no idea why some people give bad review...  review   \n",
       "2  love the gyro plate. Rice is so good and I als...  review   \n",
       "\n",
       "                  user_id  cool  useful  funny  length  sentiment  \n",
       "0  rLtl8ZkDX5vH5nAx9C3q5Q     2       5      0     895   0.402469  \n",
       "1  0a2KyEL0d3Yb1V6aivbIuQ     0       0      0    1349   0.229773  \n",
       "2  0hT2KtfLiobPvh6cDC8JQg     0       1      0      76   0.566667  "
      ]
     },
     "execution_count": 55,
     "metadata": {},
     "output_type": "execute_result"
    }
   ],
   "source": [
    "yelp.head(3)"
   ]
  },
  {
   "cell_type": "code",
   "execution_count": 56,
   "metadata": {},
   "outputs": [
    {
     "data": {
      "text/plain": [
       "<matplotlib.axes._subplots.AxesSubplot at 0x2e321d16310>"
      ]
     },
     "execution_count": 56,
     "metadata": {},
     "output_type": "execute_result"
    },
    {
     "data": {
      "image/png": "[encoded data removed]",
      "text/plain": [
       "<Figure size 432x288 with 1 Axes>"
      ]
     },
     "metadata": {
      "needs_background": "light"
     },
     "output_type": "display_data"
    }
   ],
   "source": [
    "# Box plot of sentiment grouped by stars\n",
    "yelp.boxplot(column='sentiment', by='stars')"
   ]
  },
  {
   "cell_type": "code",
   "execution_count": 57,
   "metadata": {},
   "outputs": [
    {
     "data": {
      "text/plain": [
       "254    Our server Gary was awesome. Food was amazing....\n",
       "347    3 syllables for this place. \\r\\nA-MAZ-ING!\\r\\n...\n",
       "420                                    LOVE the food!!!!\n",
       "459    Love it!!! Wish we still lived in Arizona as C...\n",
       "679                                     Excellent burger\n",
       "Name: text, dtype: object"
      ]
     },
     "execution_count": 57,
     "metadata": {},
     "output_type": "execute_result"
    }
   ],
   "source": [
    "# Reviews with most positive sentiment\n",
    "yelp[yelp.sentiment == 1].text.head()"
   ]
  },
  {
   "cell_type": "code",
   "execution_count": 58,
   "metadata": {},
   "outputs": [
    {
     "data": {
      "text/plain": [
       "773     This was absolutely horrible. I got the suprem...\n",
       "1517                  Nasty workers and over priced trash\n",
       "3266    Absolutely awful... these guys have NO idea wh...\n",
       "4766                                       Very bad food!\n",
       "5812        I wouldn't send my worst enemy to this place.\n",
       "Name: text, dtype: object"
      ]
     },
     "execution_count": 58,
     "metadata": {},
     "output_type": "execute_result"
    }
   ],
   "source": [
    "# Reviews with most negative sentiment\n",
    "yelp[yelp.sentiment == -1].text.head()"
   ]
  },
  {
   "cell_type": "code",
   "execution_count": 59,
   "metadata": {},
   "outputs": [],
   "source": [
    "# Widen the column display.\n",
    "pd.set_option('max_colwidth', 500)"
   ]
  },
  {
   "cell_type": "code",
   "execution_count": 60,
   "metadata": {},
   "outputs": [
    {
     "data": {
      "text/html": [
       "<div>\n",
       "<style scoped>\n",
       "    .dataframe tbody tr th:only-of-type {\n",
       "        vertical-align: middle;\n",
       "    }\n",
       "\n",
       "    .dataframe tbody tr th {\n",
       "        vertical-align: top;\n",
       "    }\n",
       "\n",
       "    .dataframe thead th {\n",
       "        text-align: right;\n",
       "    }\n",
       "</style>\n",
       "<table border=\"1\" class=\"dataframe\">\n",
       "  <thead>\n",
       "    <tr style=\"text-align: right;\">\n",
       "      <th></th>\n",
       "      <th>business_id</th>\n",
       "      <th>date</th>\n",
       "      <th>review_id</th>\n",
       "      <th>stars</th>\n",
       "      <th>text</th>\n",
       "      <th>type</th>\n",
       "      <th>user_id</th>\n",
       "      <th>cool</th>\n",
       "      <th>useful</th>\n",
       "      <th>funny</th>\n",
       "      <th>length</th>\n",
       "      <th>sentiment</th>\n",
       "    </tr>\n",
       "  </thead>\n",
       "  <tbody>\n",
       "    <tr>\n",
       "      <th>390</th>\n",
       "      <td>106JT5p8e8Chtd0CZpcARw</td>\n",
       "      <td>2009-08-06</td>\n",
       "      <td>KowGVoP_gygzdSu6Mt3zKQ</td>\n",
       "      <td>5</td>\n",
       "      <td>RIP AZ Coffee Connection.  :(  I stopped by two days ago unaware that they had closed.  I am severely bummed.  This place is irreplaceable!  Damn you, Starbucks and McDonalds!</td>\n",
       "      <td>review</td>\n",
       "      <td>jKeaOrPyJ-dI9SNeVqrbww</td>\n",
       "      <td>1</td>\n",
       "      <td>0</td>\n",
       "      <td>0</td>\n",
       "      <td>175</td>\n",
       "      <td>-0.302083</td>\n",
       "    </tr>\n",
       "  </tbody>\n",
       "</table>\n",
       "</div>"
      ],
      "text/plain": [
       "                business_id        date               review_id  stars  \\\n",
       "390  106JT5p8e8Chtd0CZpcARw  2009-08-06  KowGVoP_gygzdSu6Mt3zKQ      5   \n",
       "\n",
       "                                                                                                                                                                                text  \\\n",
       "390  RIP AZ Coffee Connection.  :(  I stopped by two days ago unaware that they had closed.  I am severely bummed.  This place is irreplaceable!  Damn you, Starbucks and McDonalds!   \n",
       "\n",
       "       type                 user_id  cool  useful  funny  length  sentiment  \n",
       "390  review  jKeaOrPyJ-dI9SNeVqrbww     1       0      0     175  -0.302083  "
      ]
     },
     "execution_count": 60,
     "metadata": {},
     "output_type": "execute_result"
    }
   ],
   "source": [
    "# Negative sentiment in a 5-star review\n",
    "yelp[(yelp.stars == 5) & (yelp.sentiment < -0.3)].head(1)"
   ]
  },
  {
   "cell_type": "code",
   "execution_count": 61,
   "metadata": {},
   "outputs": [
    {
     "data": {
      "text/html": [
       "<div>\n",
       "<style scoped>\n",
       "    .dataframe tbody tr th:only-of-type {\n",
       "        vertical-align: middle;\n",
       "    }\n",
       "\n",
       "    .dataframe tbody tr th {\n",
       "        vertical-align: top;\n",
       "    }\n",
       "\n",
       "    .dataframe thead th {\n",
       "        text-align: right;\n",
       "    }\n",
       "</style>\n",
       "<table border=\"1\" class=\"dataframe\">\n",
       "  <thead>\n",
       "    <tr style=\"text-align: right;\">\n",
       "      <th></th>\n",
       "      <th>business_id</th>\n",
       "      <th>date</th>\n",
       "      <th>review_id</th>\n",
       "      <th>stars</th>\n",
       "      <th>text</th>\n",
       "      <th>type</th>\n",
       "      <th>user_id</th>\n",
       "      <th>cool</th>\n",
       "      <th>useful</th>\n",
       "      <th>funny</th>\n",
       "      <th>length</th>\n",
       "      <th>sentiment</th>\n",
       "    </tr>\n",
       "  </thead>\n",
       "  <tbody>\n",
       "    <tr>\n",
       "      <th>1781</th>\n",
       "      <td>53YGfwmbW73JhFiemNeyzQ</td>\n",
       "      <td>2012-06-22</td>\n",
       "      <td>Gi-4O3EhE175vujbFGDIew</td>\n",
       "      <td>1</td>\n",
       "      <td>If you like the stuck up Scottsdale vibe this is a good place for you. The food isn't impressive. Nice outdoor seating.</td>\n",
       "      <td>review</td>\n",
       "      <td>Hqgx3IdJAAaoQjvrUnbNvw</td>\n",
       "      <td>0</td>\n",
       "      <td>1</td>\n",
       "      <td>2</td>\n",
       "      <td>119</td>\n",
       "      <td>0.766667</td>\n",
       "    </tr>\n",
       "  </tbody>\n",
       "</table>\n",
       "</div>"
      ],
      "text/plain": [
       "                 business_id        date               review_id  stars  \\\n",
       "1781  53YGfwmbW73JhFiemNeyzQ  2012-06-22  Gi-4O3EhE175vujbFGDIew      1   \n",
       "\n",
       "                                                                                                                         text  \\\n",
       "1781  If you like the stuck up Scottsdale vibe this is a good place for you. The food isn't impressive. Nice outdoor seating.   \n",
       "\n",
       "        type                 user_id  cool  useful  funny  length  sentiment  \n",
       "1781  review  Hqgx3IdJAAaoQjvrUnbNvw     0       1      2     119   0.766667  "
      ]
     },
     "execution_count": 61,
     "metadata": {},
     "output_type": "execute_result"
    }
   ],
   "source": [
    "# Positive sentiment in a 1-star review\n",
    "yelp[(yelp.stars == 1) & (yelp.sentiment > 0.5)].head(1)"
   ]
  },
  {
   "cell_type": "code",
   "execution_count": 62,
   "metadata": {},
   "outputs": [],
   "source": [
    "# Reset the column display width.\n",
    "pd.reset_option('max_colwidth')"
   ]
  },
  {
   "cell_type": "markdown",
   "metadata": {},
   "source": [
    "<a id='add_feat'></a>\n",
    "## Bonus: Adding Features to a Document-Term Matrix"
   ]
  },
  {
   "cell_type": "markdown",
   "metadata": {},
   "source": [
    "Here, we will add additional features to our `CountVectorizer()`-generated feature set to hopefully improve our model.\n",
    "\n",
    "To make the best models, you will want to supplement the auto-generated features with new features you think might be important. After all, `CountVectorizer()` typically lowercases text and removes all associations between words. Or, you may have metadata to add in addition to just the text.\n",
    "\n",
    "> Remember: Although you may have hundreds of thousands of features, each data point is extremely sparse. So, if you add in a new feature, e.g., one that detects if the text is all capital letters, this new feature can still have a huge effect on the model outcome!"
   ]
  },
  {
   "cell_type": "code",
   "execution_count": 63,
   "metadata": {},
   "outputs": [],
   "source": [
    "# Create a DataFrame that only contains the 5-star and 1-star reviews.\n",
    "yelp_best_worst = yelp[(yelp.stars==5) | (yelp.stars==1)]\n",
    "\n",
    "# define X and y\n",
    "feature_cols = ['text', 'sentiment', 'cool', 'useful', 'funny']\n",
    "X = yelp_best_worst[feature_cols]\n",
    "y = yelp_best_worst.stars\n",
    "\n",
    "# split into training and testing sets\n",
    "X_train, X_test, y_train, y_test = train_test_split(X, y, random_state=1)"
   ]
  },
  {
   "cell_type": "code",
   "execution_count": 64,
   "metadata": {},
   "outputs": [
    {
     "name": "stdout",
     "output_type": "stream",
     "text": [
      "(3064, 16825)\n",
      "(1022, 16825)\n"
     ]
    }
   ],
   "source": [
    "# Use CountVectorizer with text column only.\n",
    "vect = CountVectorizer()\n",
    "X_train_dtm = vect.fit_transform(X_train.text)\n",
    "X_test_dtm = vect.transform(X_test.text)\n",
    "print((X_train_dtm.shape))\n",
    "print((X_test_dtm.shape))"
   ]
  },
  {
   "cell_type": "code",
   "execution_count": 65,
   "metadata": {},
   "outputs": [
    {
     "data": {
      "text/plain": [
       "(3064, 4)"
      ]
     },
     "execution_count": 65,
     "metadata": {},
     "output_type": "execute_result"
    }
   ],
   "source": [
    "# Shape of other four feature columns\n",
    "X_train.drop('text', axis=1).shape"
   ]
  },
  {
   "cell_type": "code",
   "execution_count": 66,
   "metadata": {},
   "outputs": [
    {
     "data": {
      "text/plain": [
       "(3064, 4)"
      ]
     },
     "execution_count": 66,
     "metadata": {},
     "output_type": "execute_result"
    }
   ],
   "source": [
    "# Cast other feature columns to float and convert to a sparse matrix.\n",
    "extra = sp.sparse.csr_matrix(X_train.drop('text', axis=1).astype(float))\n",
    "extra.shape"
   ]
  },
  {
   "cell_type": "code",
   "execution_count": 67,
   "metadata": {},
   "outputs": [
    {
     "data": {
      "text/plain": [
       "(3064, 16829)"
      ]
     },
     "execution_count": 67,
     "metadata": {},
     "output_type": "execute_result"
    }
   ],
   "source": [
    "# Combine sparse matrices.\n",
    "X_train_dtm_extra = sp.sparse.hstack((X_train_dtm, extra))\n",
    "X_train_dtm_extra.shape"
   ]
  },
  {
   "cell_type": "code",
   "execution_count": 68,
   "metadata": {},
   "outputs": [
    {
     "data": {
      "text/plain": [
       "(1022, 16829)"
      ]
     },
     "execution_count": 68,
     "metadata": {},
     "output_type": "execute_result"
    }
   ],
   "source": [
    "# Repeat for testing set.\n",
    "extra = sp.sparse.csr_matrix(X_test.drop('text', axis=1).astype(float))\n",
    "X_test_dtm_extra = sp.sparse.hstack((X_test_dtm, extra))\n",
    "X_test_dtm_extra.shape"
   ]
  },
  {
   "cell_type": "code",
   "execution_count": 69,
   "metadata": {},
   "outputs": [
    {
     "name": "stdout",
     "output_type": "stream",
     "text": [
      "0.9246575342465754\n"
     ]
    }
   ],
   "source": [
    "# Use logistic regression with text column only.\n",
    "logreg = LogisticRegression(C=1e9)\n",
    "logreg.fit(X_train_dtm, y_train)\n",
    "y_pred_class = logreg.predict(X_test_dtm)\n",
    "print((metrics.accuracy_score(y_test, y_pred_class)))"
   ]
  },
  {
   "cell_type": "code",
   "execution_count": 70,
   "metadata": {},
   "outputs": [
    {
     "name": "stdout",
     "output_type": "stream",
     "text": [
      "0.9207436399217221\n"
     ]
    }
   ],
   "source": [
    "# Use logistic regression with all features.\n",
    "logreg = LogisticRegression(C=1e9)\n",
    "logreg.fit(X_train_dtm_extra, y_train)\n",
    "y_pred_class = logreg.predict(X_test_dtm_extra)\n",
    "print((metrics.accuracy_score(y_test, y_pred_class)))"
   ]
  },
  {
   "cell_type": "markdown",
   "metadata": {},
   "source": [
    "<a id='more_textblob'></a>\n",
    "## Bonus: Fun TextBlob Features"
   ]
  },
  {
   "cell_type": "code",
   "execution_count": 71,
   "metadata": {},
   "outputs": [
    {
     "data": {
      "text/plain": [
       "TextBlob(\"15 minutes late\")"
      ]
     },
     "execution_count": 71,
     "metadata": {},
     "output_type": "execute_result"
    }
   ],
   "source": [
    "# Spelling correction\n",
    "TextBlob('15 minuets late').correct()"
   ]
  },
  {
   "cell_type": "code",
   "execution_count": 72,
   "metadata": {},
   "outputs": [
    {
     "data": {
      "text/plain": [
       "[('part', 0.9929478138222849), ('parrot', 0.007052186177715092)]"
      ]
     },
     "execution_count": 72,
     "metadata": {},
     "output_type": "execute_result"
    }
   ],
   "source": [
    "# Spellcheck\n",
    "Word('parot').spellcheck()"
   ]
  },
  {
   "cell_type": "code",
   "execution_count": 73,
   "metadata": {},
   "outputs": [
    {
     "data": {
      "text/plain": [
       "['tip laterally',\n",
       " 'enclose with a bank',\n",
       " 'do business with a bank or keep an account at a bank',\n",
       " 'act as the banker in a game or in gambling',\n",
       " 'be in the banking business',\n",
       " 'put into a bank account',\n",
       " 'cover with ashes so to control the rate of burning',\n",
       " 'have confidence or faith in']"
      ]
     },
     "execution_count": 73,
     "metadata": {},
     "output_type": "execute_result"
    }
   ],
   "source": [
    "# Definitions\n",
    "Word('bank').define('v')"
   ]
  },
  {
   "cell_type": "code",
   "execution_count": 74,
   "metadata": {},
   "outputs": [
    {
     "data": {
      "text/plain": [
       "'es'"
      ]
     },
     "execution_count": 74,
     "metadata": {},
     "output_type": "execute_result"
    }
   ],
   "source": [
    "# Language identification\n",
    "TextBlob('Hola amigos').detect_language()"
   ]
  },
  {
   "cell_type": "markdown",
   "metadata": {},
   "source": [
    "##  Naive Bayes"
   ]
  },
  {
   "cell_type": "code",
   "execution_count": 75,
   "metadata": {},
   "outputs": [
    {
     "data": {
      "image/jpeg": "[encoded data removed]",
      "text/html": [
       "\n",
       "        <iframe\n",
       "            width=\"400\"\n",
       "            height=\"300\"\n",
       "            src=\"https://www.youtube.com/embed/mhlc7peGlGg\"\n",
       "            frameborder=\"0\"\n",
       "            allowfullscreen\n",
       "        ></iframe>\n",
       "        "
      ],
      "text/plain": [
       "<IPython.lib.display.YouTubeVideo at 0x2e32f1a55b0>"
      ]
     },
     "execution_count": 75,
     "metadata": {},
     "output_type": "execute_result"
    }
   ],
   "source": [
    "YouTubeVideo('mhlc7peGlGg')"
   ]
  },
  {
   "cell_type": "markdown",
   "metadata": {},
   "source": [
    "<a id=\"bayes\"></a>\n",
    "\n",
    "**What is Bayes?**  \n",
    "Bayes, or Bayes' Theorem, is a different way to assess probability. It considers prior information in order to more accurately assess the situation.\n",
    "\n",
    "<img src=\"./images/nb.png\" width=\"600\" height=\"600\" align=\"center\"/>\n"
   ]
  },
  {
   "cell_type": "code",
   "execution_count": 76,
   "metadata": {},
   "outputs": [
    {
     "data": {
      "image/jpeg": "[encoded data removed]",
      "text/html": [
       "\n",
       "        <iframe\n",
       "            width=\"400\"\n",
       "            height=\"300\"\n",
       "            src=\"https://www.youtube.com/embed/R13BD8qKeTg\"\n",
       "            frameborder=\"0\"\n",
       "            allowfullscreen\n",
       "        ></iframe>\n",
       "        "
      ],
      "text/plain": [
       "<IPython.lib.display.YouTubeVideo at 0x2e32f1a5640>"
      ]
     },
     "execution_count": 76,
     "metadata": {},
     "output_type": "execute_result"
    }
   ],
   "source": [
    "## **Example:** You wake up and feel unwell.\n",
    "YouTubeVideo('R13BD8qKeTg')"
   ]
  },
  {
   "cell_type": "markdown",
   "metadata": {},
   "source": [
    "Below is the equation for Bayes.  \n",
    "\n",
    "$$P(A \\ | \\ B) = \\frac {P(B \\ | \\ A) \\times P(A)} {P(B)}$$\n",
    "\n",
    "- **$P(A \\ | \\ B)$** : Probability of `Event A` occurring given `Event B` has occurred.\n",
    "- **$P(B \\ | \\ A)$** : Probability of `Event B` occurring given `Event A` has occurred.\n",
    "- **$P(A)$** : Probability of `Event A` occurring.\n",
    "- **$P(B)$** : Probability of `Event B` occurring."
   ]
  },
  {
   "cell_type": "markdown",
   "metadata": {},
   "source": [
    "### Key Takeaways\n",
    "\n",
    "- The \"naive\" assumption of Naive Bayes (that the features are conditionally independent) is critical to making these calculations simple.\n",
    "- The normalization constant (the denominator) can be ignored since it's the same for all classes.\n",
    "- The prior probability is much less relevant once you have a lot of features.\n",
    "\n",
    "### Comparing Naive Bayes With Other Models\n",
    "\n",
    "Advantages of Naive Bayes:\n",
    "\n",
    "- Model training and prediction are very fast.\n",
    "- It's somewhat interpretable.\n",
    "- No tuning is required.\n",
    "- Features don't need scaling.\n",
    "- It's insensitive to irrelevant features (with enough observations).\n",
    "- It performs better than logistic regression when the training set is very small.\n",
    "\n",
    "Disadvantages of Naive Bayes:\n",
    "\n",
    "- If \"spam\" is dependent on non-independent combinations of individual words, it may not work well.\n",
    "- Predicted probabilities are not well calibrated.\n",
    "- Correlated features can be problematic (due to the independence assumption).\n",
    "- It can't handle negative features (with Multinomial Naive Bayes).\n",
    "- It has a higher \"asymptotic error\" than logistic regression.\n",
    "\n",
    "-----"
   ]
  },
  {
   "cell_type": "markdown",
   "metadata": {},
   "source": [
    "<a id='conclusion'></a>\n",
    "## Conclusion\n",
    "\n",
    "- NLP is a gigantic field.\n",
    "- Understanding the basics broadens the types of data you can work with.\n",
    "- Simple techniques go a long way.\n",
    "- Use scikit-learn for NLP whenever possible.\n",
    "\n",
    "While we used SKLearn and TextBlob today, another popular python NLP library is [Spacy](https://spacy.io)."
   ]
  },
  {
   "cell_type": "markdown",
   "metadata": {},
   "source": [
    "# Now you do it \n",
    "<img src=\"./images/spam.png\" width=\"600\" height=\"600\" align=\"center\"/>\n",
    "\n",
    "<img src=\"./images/hands_on.jpg\" width=\"100\" height=\"100\" align=\"right\"/>"
   ]
  },
  {
   "cell_type": "markdown",
   "metadata": {},
   "source": [
    "You are going to be analyzing tweets about airlines.  These have been hand-tagged with sentiment.  There are three categories: positive, neutral, and negative.\n",
    "\n",
    "> Build a model that predicts the sentiment \n",
    "\n",
    "What is the accuracy?  Print out a heatmap to see where your model performs well, and where it performs poorly."
   ]
  },
  {
   "cell_type": "code",
   "execution_count": 77,
   "metadata": {},
   "outputs": [
    {
     "data": {
      "text/html": [
       "<div>\n",
       "<style scoped>\n",
       "    .dataframe tbody tr th:only-of-type {\n",
       "        vertical-align: middle;\n",
       "    }\n",
       "\n",
       "    .dataframe tbody tr th {\n",
       "        vertical-align: top;\n",
       "    }\n",
       "\n",
       "    .dataframe thead th {\n",
       "        text-align: right;\n",
       "    }\n",
       "</style>\n",
       "<table border=\"1\" class=\"dataframe\">\n",
       "  <thead>\n",
       "    <tr style=\"text-align: right;\">\n",
       "      <th></th>\n",
       "      <th>label</th>\n",
       "      <th>text</th>\n",
       "    </tr>\n",
       "  </thead>\n",
       "  <tbody>\n",
       "    <tr>\n",
       "      <th>0</th>\n",
       "      <td>ham</td>\n",
       "      <td>Go until jurong point, crazy.. Available only in bugis n great world la e buffet... Cine there g...</td>\n",
       "    </tr>\n",
       "    <tr>\n",
       "      <th>1</th>\n",
       "      <td>ham</td>\n",
       "      <td>Ok lar... Joking wif u oni...</td>\n",
       "    </tr>\n",
       "    <tr>\n",
       "      <th>2</th>\n",
       "      <td>spam</td>\n",
       "      <td>Free entry in 2 a wkly comp to win FA Cup final tkts 21st May 2005. Text FA to 87121 to receive ...</td>\n",
       "    </tr>\n",
       "    <tr>\n",
       "      <th>3</th>\n",
       "      <td>ham</td>\n",
       "      <td>U dun say so early hor... U c already then say...</td>\n",
       "    </tr>\n",
       "    <tr>\n",
       "      <th>4</th>\n",
       "      <td>ham</td>\n",
       "      <td>Nah I don't think he goes to usf, he lives around here though</td>\n",
       "    </tr>\n",
       "  </tbody>\n",
       "</table>\n",
       "</div>"
      ],
      "text/plain": [
       "  label  \\\n",
       "0   ham   \n",
       "1   ham   \n",
       "2  spam   \n",
       "3   ham   \n",
       "4   ham   \n",
       "\n",
       "                                                                                                  text  \n",
       "0  Go until jurong point, crazy.. Available only in bugis n great world la e buffet... Cine there g...  \n",
       "1                                                                        Ok lar... Joking wif u oni...  \n",
       "2  Free entry in 2 a wkly comp to win FA Cup final tkts 21st May 2005. Text FA to 87121 to receive ...  \n",
       "3                                                    U dun say so early hor... U c already then say...  \n",
       "4                                        Nah I don't think he goes to usf, he lives around here though  "
      ]
     },
     "execution_count": 77,
     "metadata": {},
     "output_type": "execute_result"
    }
   ],
   "source": [
    "raw_data = pd.read_csv(\"./data/SMSSpamCollection.tsv\",sep='\\t',names=['label','text'])\n",
    "pd.set_option('display.max_colwidth',100)\n",
    "raw_data.head()"
   ]
  },
  {
   "cell_type": "code",
   "execution_count": null,
   "metadata": {},
   "outputs": [],
   "source": []
  },
  {
   "cell_type": "code",
   "execution_count": null,
   "metadata": {},
   "outputs": [],
   "source": []
  }
 ],
 "metadata": {
  "kernelspec": {
   "display_name": "Python 3",
   "language": "python",
   "name": "python3"
  },
  "language_info": {
   "codemirror_mode": {
    "name": "ipython",
    "version": 3
   },
   "file_extension": ".py",
   "mimetype": "text/x-python",
   "name": "python",
   "nbconvert_exporter": "python",
   "pygments_lexer": "ipython3",
   "version": "3.8.3"
  }
 },
 "nbformat": 4,
 "nbformat_minor": 4
}
